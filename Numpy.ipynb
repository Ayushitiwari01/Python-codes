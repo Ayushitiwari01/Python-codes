{
 "cells": [
  {
   "cell_type": "markdown",
   "id": "1aec8eee-f65b-43b5-a654-b32b188dd8b1",
   "metadata": {},
   "source": []
  },
  {
   "cell_type": "code",
   "execution_count": 5,
   "id": "860510a4-9835-49e1-a1cb-55485d2567e7",
   "metadata": {},
   "outputs": [
    {
     "name": "stdout",
     "output_type": "stream",
     "text": [
      "Requirement already satisfied: numpy in c:\\users\\om infotech\\anaconda3\\lib\\site-packages (1.26.4)\n"
     ]
    }
   ],
   "source": [
    "!pip install numpy"
   ]
  },
  {
   "cell_type": "code",
   "execution_count": 1,
   "id": "0d5e1e78-1428-4930-b5f0-ff888fa71c7e",
   "metadata": {},
   "outputs": [
    {
     "name": "stdout",
     "output_type": "stream",
     "text": [
      "[1 2 3 4 6]\n"
     ]
    }
   ],
   "source": [
    "import numpy as np\n",
    "a=np.array([1,2,3,4,6])\n",
    "print(a)"
   ]
  },
  {
   "cell_type": "code",
   "execution_count": 15,
   "id": "dba5c29b-3a82-4276-a422-599e66686410",
   "metadata": {},
   "outputs": [
    {
     "name": "stdout",
     "output_type": "stream",
     "text": [
      "Requirement already satisfied: pandas in c:\\users\\om infotech\\anaconda3\\lib\\site-packages (2.2.2)\n",
      "Requirement already satisfied: numpy>=1.26.0 in c:\\users\\om infotech\\anaconda3\\lib\\site-packages (from pandas) (1.26.4)\n",
      "Requirement already satisfied: python-dateutil>=2.8.2 in c:\\users\\om infotech\\anaconda3\\lib\\site-packages (from pandas) (2.9.0.post0)\n",
      "Requirement already satisfied: pytz>=2020.1 in c:\\users\\om infotech\\anaconda3\\lib\\site-packages (from pandas) (2024.1)\n",
      "Requirement already satisfied: tzdata>=2022.7 in c:\\users\\om infotech\\anaconda3\\lib\\site-packages (from pandas) (2023.3)\n",
      "Requirement already satisfied: six>=1.5 in c:\\users\\om infotech\\anaconda3\\lib\\site-packages (from python-dateutil>=2.8.2->pandas) (1.16.0)\n",
      "Note: you may need to restart the kernel to use updated packages.\n"
     ]
    }
   ],
   "source": [
    "pip install pandas"
   ]
  },
  {
   "cell_type": "code",
   "execution_count": 5,
   "id": "e499ffd7-5708-4265-af8f-8baebaafd85e",
   "metadata": {},
   "outputs": [],
   "source": [
    "import numpy as np"
   ]
  },
  {
   "cell_type": "code",
   "execution_count": 7,
   "id": "8353bc48-f391-4ee6-ac72-120d0144b5db",
   "metadata": {},
   "outputs": [],
   "source": [
    "#numpy's main object is the multidimensional array\n",
    "#it is a table of eleements ,all of same type,indexed by tuple integers\n",
    "#in numpy dimensions are called axes \n",
    "\n",
    "# 1-dimensional array: (6,)\n",
    "# 2-dimensional array: (2,4)\n"
   ]
  },
  {
   "cell_type": "code",
   "execution_count": 2,
   "id": "50ebe5ca-ea99-4717-908f-baf049b59c94",
   "metadata": {},
   "outputs": [],
   "source": [
    "#why should we use numpy array when we have python list\n",
    "#-fast\n",
    "#-convenient\n",
    "#-less memory"
   ]
  },
  {
   "cell_type": "code",
   "execution_count": 4,
   "id": "9d0881aa-a4b5-4c10-9382-04a0dbcb0913",
   "metadata": {},
   "outputs": [],
   "source": [
    "import numpy as np\n"
   ]
  },
  {
   "cell_type": "code",
   "execution_count": 8,
   "id": "2128b1c0-0ae0-4103-a238-5f283a2f9fe4",
   "metadata": {},
   "outputs": [
    {
     "data": {
      "text/plain": [
       "array([1, 2, 3])"
      ]
     },
     "execution_count": 8,
     "metadata": {},
     "output_type": "execute_result"
    }
   ],
   "source": [
    "a=np.array([1,2,3])\n",
    "a"
   ]
  },
  {
   "cell_type": "code",
   "execution_count": 10,
   "id": "c1ee83b0-b19a-4df0-b089-dfd3db4095ed",
   "metadata": {},
   "outputs": [
    {
     "data": {
      "text/plain": [
       "1"
      ]
     },
     "execution_count": 10,
     "metadata": {},
     "output_type": "execute_result"
    }
   ],
   "source": [
    "a[0]"
   ]
  },
  {
   "cell_type": "code",
   "execution_count": 12,
   "id": "7f64a8a3-9b80-490e-8e50-08342a06887d",
   "metadata": {},
   "outputs": [],
   "source": [
    "import time\n",
    "import sys"
   ]
  },
  {
   "cell_type": "code",
   "execution_count": 18,
   "id": "11e8ea3b-570b-43b8-a221-dd097a58330b",
   "metadata": {},
   "outputs": [
    {
     "data": {
      "text/plain": [
       "28000"
      ]
     },
     "execution_count": 18,
     "metadata": {},
     "output_type": "execute_result"
    }
   ],
   "source": [
    "b=range(1000)\n",
    "sys.getsizeof(5)*len(b)"
   ]
  },
  {
   "cell_type": "code",
   "execution_count": 22,
   "id": "70542c31-3182-40fa-aa82-cefe3a295aeb",
   "metadata": {},
   "outputs": [
    {
     "data": {
      "text/plain": [
       "4000"
      ]
     },
     "execution_count": 22,
     "metadata": {},
     "output_type": "execute_result"
    }
   ],
   "source": [
    "c=np.arange(1000)\n",
    "c.size*c.itemsize"
   ]
  },
  {
   "cell_type": "code",
   "execution_count": 31,
   "id": "ff4c7515-c712-4391-8df3-501d240239b5",
   "metadata": {},
   "outputs": [
    {
     "data": {
      "text/plain": [
       "array([2, 3, 4, 5, 6, 7])"
      ]
     },
     "execution_count": 31,
     "metadata": {},
     "output_type": "execute_result"
    }
   ],
   "source": [
    "size=1000\n",
    "l1=range(size)\n",
    "l2=range(size)\n"
   ]
  },
  {
   "cell_type": "code",
   "execution_count": 26,
   "id": "791d8931-7af3-4500-b3cc-f2545213a1b7",
   "metadata": {},
   "outputs": [
    {
     "data": {
      "text/plain": [
       "array([[1, 2],\n",
       "       [2, 3],\n",
       "       [3, 4]])"
      ]
     },
     "execution_count": 26,
     "metadata": {},
     "output_type": "execute_result"
    }
   ],
   "source": [
    "a=np.array([[1,2],[2,3],[3,4]])\n",
    "a"
   ]
  },
  {
   "cell_type": "markdown",
   "id": "d07a8bfc-fc76-41c9-b4cd-7e6e995621f3",
   "metadata": {},
   "source": [
    "creating arrays in numpy\n"
   ]
  },
  {
   "cell_type": "code",
   "execution_count": 5,
   "id": "9387a4b5-6c6d-43a3-b5c7-c7427ce73954",
   "metadata": {},
   "outputs": [
    {
     "name": "stdout",
     "output_type": "stream",
     "text": [
      "[1.3 5.6 7.8] and its type is: <class 'numpy.ndarray'>\n"
     ]
    }
   ],
   "source": [
    "#ndarray multidimensional array for same type elements\n",
    "import numpy as np\n",
    "data=np.array([1.3,5.6,7.8])\n",
    "print(data,\"and its type is:\",type(data))"
   ]
  },
  {
   "cell_type": "code",
   "execution_count": 7,
   "id": "a442e676-1ebd-495a-badd-86df61e18e95",
   "metadata": {},
   "outputs": [
    {
     "name": "stdout",
     "output_type": "stream",
     "text": [
      "['hello' '1']\n"
     ]
    }
   ],
   "source": [
    "#different data types converted to same\n",
    "data=np.array(['hello',1])\n",
    "print(data)"
   ]
  },
  {
   "cell_type": "code",
   "execution_count": 11,
   "id": "a333c5ca-5db9-49c2-9d09-103be0d03c08",
   "metadata": {},
   "outputs": [
    {
     "name": "stdout",
     "output_type": "stream",
     "text": [
      "[['mansi' '24']\n",
      " ['ayushi' '20']]\n"
     ]
    }
   ],
   "source": [
    "data=np.array([['mansi',24],['ayushi',20]])\n",
    "print(data)"
   ]
  },
  {
   "cell_type": "markdown",
   "id": "d5a81cd5-ad6a-461b-a36e-0b447710163d",
   "metadata": {},
   "source": [
    "shape and dimension of ndarray"
   ]
  },
  {
   "cell_type": "code",
   "execution_count": 15,
   "id": "86b145c0-e2d6-4806-a385-a55de3f86c1f",
   "metadata": {},
   "outputs": [
    {
     "name": "stdout",
     "output_type": "stream",
     "text": [
      "[['mansi' '24']\n",
      " ['ayushi' '20']]\n"
     ]
    }
   ],
   "source": [
    "data=np.array([['mansi',24],['ayushi',20]])\n",
    "print(data)"
   ]
  },
  {
   "cell_type": "code",
   "execution_count": 17,
   "id": "1f03d279-bb2b-425f-9bc0-caacc321b033",
   "metadata": {},
   "outputs": [
    {
     "data": {
      "text/plain": [
       "2"
      ]
     },
     "execution_count": 17,
     "metadata": {},
     "output_type": "execute_result"
    }
   ],
   "source": [
    "data.ndim #dimension of array"
   ]
  },
  {
   "cell_type": "code",
   "execution_count": 19,
   "id": "cb4b7770-c768-4c73-8129-536517779293",
   "metadata": {},
   "outputs": [
    {
     "data": {
      "text/plain": [
       "(2, 2)"
      ]
     },
     "execution_count": 19,
     "metadata": {},
     "output_type": "execute_result"
    }
   ],
   "source": [
    "data.shape #shape of array"
   ]
  },
  {
   "cell_type": "code",
   "execution_count": 21,
   "id": "120fa610-a8d7-4fbe-85cc-57b6f1408ad3",
   "metadata": {},
   "outputs": [
    {
     "data": {
      "text/plain": [
       "4"
      ]
     },
     "execution_count": 21,
     "metadata": {},
     "output_type": "execute_result"
    }
   ],
   "source": [
    "data.size #size of array"
   ]
  },
  {
   "cell_type": "markdown",
   "id": "7662ba96-87c2-4bc2-8a3c-44ad641486db",
   "metadata": {},
   "source": [
    "other func for creating new arrays"
   ]
  },
  {
   "cell_type": "code",
   "execution_count": 24,
   "id": "2db4368c-d49b-4a3e-a440-30c680524b44",
   "metadata": {},
   "outputs": [
    {
     "data": {
      "text/plain": [
       "array([0., 0., 0., 0., 0., 0., 0., 0., 0., 0.])"
      ]
     },
     "execution_count": 24,
     "metadata": {},
     "output_type": "execute_result"
    }
   ],
   "source": [
    "x=np.zeros(10)\n",
    "x"
   ]
  },
  {
   "cell_type": "code",
   "execution_count": 26,
   "id": "50084959-fd01-43dc-9e0e-9365ca2da1e4",
   "metadata": {},
   "outputs": [
    {
     "data": {
      "text/plain": [
       "array([1., 1., 1., 1., 1., 1., 1.])"
      ]
     },
     "execution_count": 26,
     "metadata": {},
     "output_type": "execute_result"
    }
   ],
   "source": [
    "y=np.ones(7)\n",
    "y"
   ]
  },
  {
   "cell_type": "code",
   "execution_count": 28,
   "id": "ccb07c3f-44d7-4a7d-ad92-062cdbed2ae1",
   "metadata": {},
   "outputs": [
    {
     "data": {
      "text/plain": [
       "array([[0., 0., 0., 0., 0., 0.],\n",
       "       [0., 0., 0., 0., 0., 0.],\n",
       "       [0., 0., 0., 0., 0., 0.]])"
      ]
     },
     "execution_count": 28,
     "metadata": {},
     "output_type": "execute_result"
    }
   ],
   "source": [
    "np.zeros((3,6))"
   ]
  },
  {
   "cell_type": "code",
   "execution_count": 30,
   "id": "d2c83b00-38bd-4770-a838-211c0142c607",
   "metadata": {},
   "outputs": [
    {
     "data": {
      "text/plain": [
       "array([[[9.14234889e-312, 3.16202013e-322],\n",
       "        [0.00000000e+000, 0.00000000e+000],\n",
       "        [1.08221785e-312, 8.00403670e+169]],\n",
       "\n",
       "       [[6.09657645e+170, 5.06038419e-038],\n",
       "        [5.45622876e-066, 2.98170450e+179],\n",
       "        [2.36206511e+180, 1.80300756e+185]]])"
      ]
     },
     "execution_count": 30,
     "metadata": {},
     "output_type": "execute_result"
    }
   ],
   "source": [
    "np.empty((2,3,2))#creates array without initializing val"
   ]
  },
  {
   "cell_type": "markdown",
   "id": "d9ec2d09-383b-4855-81d6-c57fbae206cf",
   "metadata": {},
   "source": [
    "creating new arrays"
   ]
  },
  {
   "cell_type": "code",
   "execution_count": 35,
   "id": "37025c35-9126-4a72-9bf2-4d6b4634a32f",
   "metadata": {},
   "outputs": [
    {
     "data": {
      "text/plain": [
       "array([0, 1, 2, 3, 4])"
      ]
     },
     "execution_count": 35,
     "metadata": {},
     "output_type": "execute_result"
    }
   ],
   "source": [
    "import numpy as np\n",
    "np.arange(5)"
   ]
  },
  {
   "cell_type": "code",
   "execution_count": 37,
   "id": "88f9a469-07bc-412d-a79e-53a1a1faf2c1",
   "metadata": {},
   "outputs": [
    {
     "data": {
      "text/plain": [
       "array([10, 15])"
      ]
     },
     "execution_count": 37,
     "metadata": {},
     "output_type": "execute_result"
    }
   ],
   "source": [
    "#create arrat start and end with 10 to 20 with step size 5\n",
    "np.arange(10,20,5)"
   ]
  },
  {
   "cell_type": "code",
   "execution_count": 45,
   "id": "87f8546c-f4ca-436e-b1dc-c92f9b97ec03",
   "metadata": {},
   "outputs": [
    {
     "data": {
      "text/plain": [
       "array([10. , 12.5, 15. , 17.5, 20. ])"
      ]
     },
     "execution_count": 45,
     "metadata": {},
     "output_type": "execute_result"
    }
   ],
   "source": [
    "#generate 5 el btw 10 and 20\n",
    "np.linspace(10 , 20 ,5)"
   ]
  },
  {
   "cell_type": "code",
   "execution_count": 47,
   "id": "e7f180f9-9048-432e-bf4b-5acd4c1ef6c9",
   "metadata": {},
   "outputs": [
    {
     "data": {
      "text/plain": [
       "array([[10, 10, 10],\n",
       "       [10, 10, 10]])"
      ]
     },
     "execution_count": 47,
     "metadata": {},
     "output_type": "execute_result"
    }
   ],
   "source": [
    "np.full((2,3),10)"
   ]
  },
  {
   "cell_type": "code",
   "execution_count": 54,
   "id": "78913b6e-ff23-4e48-b59e-60d534ec4bf6",
   "metadata": {},
   "outputs": [
    {
     "data": {
      "text/plain": [
       "array([[1., 0., 0., 0.],\n",
       "       [0., 1., 0., 0.],\n",
       "       [0., 0., 1., 0.],\n",
       "       [0., 0., 0., 1.]])"
      ]
     },
     "execution_count": 54,
     "metadata": {},
     "output_type": "execute_result"
    }
   ],
   "source": [
    "res=np.identity(4)\n",
    "res\n",
    "#prints identity matrix"
   ]
  },
  {
   "cell_type": "code",
   "execution_count": 56,
   "id": "e8e9d0bd-ea0d-43e6-a0e0-83f3d148aa3c",
   "metadata": {},
   "outputs": [
    {
     "data": {
      "text/plain": [
       "array([[1., 0., 0., 0.],\n",
       "       [0., 1., 0., 0.],\n",
       "       [0., 0., 1., 0.],\n",
       "       [0., 0., 0., 1.]])"
      ]
     },
     "execution_count": 56,
     "metadata": {},
     "output_type": "execute_result"
    }
   ],
   "source": [
    "res=np.eye(4)\n",
    "res\n",
    "#prints identity matrix"
   ]
  },
  {
   "cell_type": "code",
   "execution_count": 62,
   "id": "03761b57-b466-40f5-821c-4e88987a14a1",
   "metadata": {},
   "outputs": [
    {
     "name": "stdout",
     "output_type": "stream",
     "text": [
      "[[1. 0. 0. 0.]\n",
      " [0. 1. 0. 0.]\n",
      " [0. 0. 1. 0.]\n",
      " [0. 0. 0. 1.]]\n"
     ]
    }
   ],
   "source": [
    "res=np.eye(4,k=1)\n",
    "print(res)\n",
    "#starts from 1st position"
   ]
  },
  {
   "cell_type": "markdown",
   "id": "b59698ea-3d85-4376-a062-697f9bcb76eb",
   "metadata": {},
   "source": [
    "CONVERTING DATA TYPES"
   ]
  },
  {
   "cell_type": "code",
   "execution_count": 65,
   "id": "0eac25fe-cff6-4db8-9633-ae2507847bc9",
   "metadata": {},
   "outputs": [
    {
     "name": "stdout",
     "output_type": "stream",
     "text": [
      "[1. 2. 3.]\n"
     ]
    }
   ],
   "source": [
    "a1=np.array([1,2,3], dtype=np.float64)\n",
    "print(a1)"
   ]
  },
  {
   "cell_type": "code",
   "execution_count": 67,
   "id": "29133eb3-833a-4541-8847-f3d27146631b",
   "metadata": {},
   "outputs": [
    {
     "name": "stdout",
     "output_type": "stream",
     "text": [
      "[1 2 3]\n"
     ]
    }
   ],
   "source": [
    "a2=np.array([1,2,3],dtype=np.int32)\n",
    "print(a2)"
   ]
  },
  {
   "cell_type": "code",
   "execution_count": 71,
   "id": "83ddf55f-3890-489e-ab29-dae478cf7e4d",
   "metadata": {},
   "outputs": [
    {
     "name": "stdout",
     "output_type": "stream",
     "text": [
      "float64\n",
      "int32\n"
     ]
    }
   ],
   "source": [
    "print(a1.dtype)\n",
    "print(a2.dtype)"
   ]
  },
  {
   "cell_type": "code",
   "execution_count": 73,
   "id": "0b665331-b9e4-47bf-bfeb-1c7cdce78a54",
   "metadata": {},
   "outputs": [
    {
     "name": "stdout",
     "output_type": "stream",
     "text": [
      "[1 2 4 5 6] int32\n"
     ]
    }
   ],
   "source": [
    "arr=np.array([1,2,4,5,6])\n",
    "print(arr, arr.dtype)"
   ]
  },
  {
   "cell_type": "markdown",
   "id": "0d5283ff-40c5-42d9-ab86-2654cad24cbd",
   "metadata": {},
   "source": [
    "ARITHMETIC WITH NUMPY"
   ]
  },
  {
   "cell_type": "code",
   "execution_count": 76,
   "id": "0de37817-8cb1-4d23-80b1-01e4ca0f9bd5",
   "metadata": {},
   "outputs": [
    {
     "data": {
      "text/plain": [
       "array([[1., 2., 3.],\n",
       "       [4., 5., 6.]])"
      ]
     },
     "execution_count": 76,
     "metadata": {},
     "output_type": "execute_result"
    }
   ],
   "source": [
    "arr1=np.array([[1. ,2. ,3. ],[4. , 5. ,6. ]]); arr1"
   ]
  },
  {
   "cell_type": "code",
   "execution_count": 78,
   "id": "98efbdeb-29c8-4c24-8a63-42fdf69920c3",
   "metadata": {},
   "outputs": [
    {
     "data": {
      "text/plain": [
       "array([[1., 1., 1.],\n",
       "       [2., 2., 2.]])"
      ]
     },
     "execution_count": 78,
     "metadata": {},
     "output_type": "execute_result"
    }
   ],
   "source": [
    "arr2=np.array([[1.,1.,1.],[2.,2.,2.]]); arr2"
   ]
  },
  {
   "cell_type": "code",
   "execution_count": 80,
   "id": "fe424147-4649-4b7e-8366-b527b9c24d1d",
   "metadata": {},
   "outputs": [
    {
     "data": {
      "text/plain": [
       "array([[2., 3., 4.],\n",
       "       [6., 7., 8.]])"
      ]
     },
     "execution_count": 80,
     "metadata": {},
     "output_type": "execute_result"
    }
   ],
   "source": [
    "arr1+arr2"
   ]
  },
  {
   "cell_type": "code",
   "execution_count": 82,
   "id": "7f4760dc-e9cd-4340-968d-193e897b2fcb",
   "metadata": {},
   "outputs": [
    {
     "data": {
      "text/plain": [
       "array([[ 1.,  2.,  3.],\n",
       "       [ 8., 10., 12.]])"
      ]
     },
     "execution_count": 82,
     "metadata": {},
     "output_type": "execute_result"
    }
   ],
   "source": [
    "arr1*arr2"
   ]
  },
  {
   "cell_type": "markdown",
   "id": "019a215d-8740-461e-bda2-0c75801e7b94",
   "metadata": {},
   "source": [
    "ARITHMETIC OPERATORS"
   ]
  },
  {
   "cell_type": "code",
   "execution_count": 86,
   "id": "bfc7b104-e71e-49bd-963a-768c4c0ab23f",
   "metadata": {},
   "outputs": [
    {
     "data": {
      "text/plain": [
       "array([[ 7.,  7.,  7.],\n",
       "       [14., 14., 14.]])"
      ]
     },
     "execution_count": 86,
     "metadata": {},
     "output_type": "execute_result"
    }
   ],
   "source": [
    "7*arr2"
   ]
  },
  {
   "cell_type": "code",
   "execution_count": 88,
   "id": "fefe4e3c-a741-424b-b8da-68afcc8ce3ed",
   "metadata": {},
   "outputs": [
    {
     "data": {
      "text/plain": [
       "array([[1., 1., 1.],\n",
       "       [4., 4., 4.]])"
      ]
     },
     "execution_count": 88,
     "metadata": {},
     "output_type": "execute_result"
    }
   ],
   "source": [
    "arr2**2"
   ]
  },
  {
   "cell_type": "code",
   "execution_count": 90,
   "id": "930b800c-f11f-44b6-9de1-911553a4da77",
   "metadata": {},
   "outputs": [
    {
     "data": {
      "text/plain": [
       "array([[7. , 7. , 7. ],\n",
       "       [3.5, 3.5, 3.5]])"
      ]
     },
     "execution_count": 90,
     "metadata": {},
     "output_type": "execute_result"
    }
   ],
   "source": [
    "7/arr2"
   ]
  },
  {
   "cell_type": "code",
   "execution_count": 92,
   "id": "b424d1ca-bf62-4f0f-94e6-0a6ee6841ad0",
   "metadata": {},
   "outputs": [
    {
     "data": {
      "text/plain": [
       "array([[False,  True,  True],\n",
       "       [ True,  True,  True]])"
      ]
     },
     "execution_count": 92,
     "metadata": {},
     "output_type": "execute_result"
    }
   ],
   "source": [
    "arr1>arr2"
   ]
  },
  {
   "cell_type": "code",
   "execution_count": 100,
   "id": "01f7c9ef-d5b7-4e69-afcb-90d12652e2cf",
   "metadata": {},
   "outputs": [
    {
     "data": {
      "text/plain": [
       "array([1, 2, 3])"
      ]
     },
     "execution_count": 100,
     "metadata": {},
     "output_type": "execute_result"
    }
   ],
   "source": [
    "a1=np.array([1. , 2., 3.],dtype=np.int32)\n",
    "a1"
   ]
  },
  {
   "cell_type": "code",
   "execution_count": 108,
   "id": "d1052bd1-4e94-4dcd-a3bb-5838f67070dd",
   "metadata": {},
   "outputs": [
    {
     "name": "stdout",
     "output_type": "stream",
     "text": [
      "[[1. 0. 0. 0.]\n",
      " [0. 1. 0. 0.]\n",
      " [0. 0. 1. 0.]\n",
      " [0. 0. 0. 1.]]\n"
     ]
    }
   ],
   "source": [
    "i1=np.eye(4)\n",
    "print(i1)"
   ]
  },
  {
   "cell_type": "code",
   "execution_count": 110,
   "id": "35a0b1d2-e603-4764-bafb-a01504f810be",
   "metadata": {},
   "outputs": [
    {
     "name": "stdout",
     "output_type": "stream",
     "text": [
      "[[0. 1. 0. 0.]\n",
      " [0. 0. 1. 0.]\n",
      " [0. 0. 0. 1.]\n",
      " [0. 0. 0. 0.]]\n"
     ]
    }
   ],
   "source": [
    "i2=np.eye(4,k=1)\n",
    "print(i2)#superdigonal"
   ]
  },
  {
   "cell_type": "code",
   "execution_count": 11,
   "id": "3fbf394b-5510-4f61-ba5e-61042ea4dcd5",
   "metadata": {},
   "outputs": [
    {
     "name": "stdout",
     "output_type": "stream",
     "text": [
      "[[0. 0. 0. 0.]\n",
      " [1. 0. 0. 0.]\n",
      " [0. 1. 0. 0.]\n",
      " [0. 0. 1. 0.]]\n"
     ]
    }
   ],
   "source": [
    "import numpy as np\n",
    "i3=np.eye(4,k=-1)\n",
    "print(i3)#subdigonal"
   ]
  },
  {
   "cell_type": "code",
   "execution_count": 21,
   "id": "75107eff-c800-44cf-8f23-475d29c76021",
   "metadata": {},
   "outputs": [
    {
     "name": "stdout",
     "output_type": "stream",
     "text": [
      "[[2 3 4 5]\n",
      " [3 4 5 6]\n",
      " [4 5 6 7]]\n"
     ]
    }
   ],
   "source": [
    "#numpy broadcasting\n",
    "#means to combine arrays tht are compatible\n",
    "#it may be 1d,2d,3d,4d arrays\n",
    "#here no of col of one is same as the no of row of another\n",
    "import numpy as np\n",
    "a= np.array([[1],\n",
    "            [2],\n",
    "            [3]])\n",
    "b=np.array([1,2,3,4])\n",
    "res=a+b\n",
    "print(res)\n"
   ]
  },
  {
   "cell_type": "markdown",
   "id": "49b91910-4797-43c5-bf32-7c5cf400c6c9",
   "metadata": {},
   "source": [
    "BASIC INDEXING AND SLICING"
   ]
  },
  {
   "cell_type": "code",
   "execution_count": 29,
   "id": "d9d5b0ad-f82e-4fc0-b481-c8f82b8a7add",
   "metadata": {},
   "outputs": [
    {
     "data": {
      "text/plain": [
       "array([0, 1, 2, 3, 4, 5, 6, 7, 8, 9])"
      ]
     },
     "execution_count": 29,
     "metadata": {},
     "output_type": "execute_result"
    }
   ],
   "source": [
    "arr=np.arange(10)\n",
    "arr"
   ]
  },
  {
   "cell_type": "code",
   "execution_count": 31,
   "id": "cd018d69-91a5-45dd-8a84-3ce69c90c536",
   "metadata": {},
   "outputs": [
    {
     "name": "stdout",
     "output_type": "stream",
     "text": [
      "5\n"
     ]
    }
   ],
   "source": [
    "print(arr[5])"
   ]
  },
  {
   "cell_type": "code",
   "execution_count": 33,
   "id": "488bce45-be9c-41a9-a65e-d57603b55fa0",
   "metadata": {},
   "outputs": [
    {
     "name": "stdout",
     "output_type": "stream",
     "text": [
      "[5 6 7]\n"
     ]
    }
   ],
   "source": [
    "print(arr[5:8])"
   ]
  },
  {
   "cell_type": "code",
   "execution_count": 35,
   "id": "090137ca-d003-4b74-8c16-e646b4bbbb1e",
   "metadata": {},
   "outputs": [
    {
     "data": {
      "text/plain": [
       "array([0, 1, 2, 3, 4, 6, 6, 7, 8, 9])"
      ]
     },
     "execution_count": 35,
     "metadata": {},
     "output_type": "execute_result"
    }
   ],
   "source": [
    "arr[5]=6\n",
    "arr"
   ]
  },
  {
   "cell_type": "code",
   "execution_count": 37,
   "id": "da866784-cff0-496e-8211-c4ae8e3939f1",
   "metadata": {},
   "outputs": [
    {
     "data": {
      "text/plain": [
       "array([ 0,  1,  2,  3,  4, 12, 12, 12,  8,  9])"
      ]
     },
     "execution_count": 37,
     "metadata": {},
     "output_type": "execute_result"
    }
   ],
   "source": [
    "arr[5:8]=12\n",
    "arr"
   ]
  },
  {
   "cell_type": "code",
   "execution_count": 70,
   "id": "d8207835-bbc7-424c-ae80-5f8619cac30c",
   "metadata": {},
   "outputs": [
    {
     "name": "stdout",
     "output_type": "stream",
     "text": [
      "[1000    2 1000    4 1000    6]\n"
     ]
    }
   ],
   "source": [
    "import numpy as np\n",
    "a=np.array([1,2,3,4,5,6])\n",
    "a[::2]=1000\n",
    "print(a)"
   ]
  },
  {
   "cell_type": "code",
   "execution_count": 74,
   "id": "5148e9d6-ba11-4cff-89f0-4d4e9bbf8fcb",
   "metadata": {},
   "outputs": [
    {
     "name": "stdout",
     "output_type": "stream",
     "text": [
      "[   6 1000    4 1000    2 1000]\n"
     ]
    }
   ],
   "source": [
    "ans=a[::-1]\n",
    "print(ans)"
   ]
  },
  {
   "cell_type": "code",
   "execution_count": 78,
   "id": "32c63080-93d3-4ae8-a596-841c11e4fc4b",
   "metadata": {},
   "outputs": [
    {
     "data": {
      "text/plain": [
       "[5, 4, 3, 2, 1]"
      ]
     },
     "execution_count": 78,
     "metadata": {},
     "output_type": "execute_result"
    }
   ],
   "source": [
    "arr=[1,2,3,4,5]\n",
    "arr[::-1]\n"
   ]
  },
  {
   "cell_type": "code",
   "execution_count": 80,
   "id": "92464263-0a7e-4634-a559-ca9714c4269a",
   "metadata": {},
   "outputs": [
    {
     "data": {
      "text/plain": [
       "array([2, 3])"
      ]
     },
     "execution_count": 80,
     "metadata": {},
     "output_type": "execute_result"
    }
   ],
   "source": [
    "arr=np.array([2,3,6,7,8])\n",
    "arr[0:2]"
   ]
  },
  {
   "cell_type": "code",
   "execution_count": 90,
   "id": "b683871a-278e-4ab9-88b9-5384461fbea4",
   "metadata": {},
   "outputs": [
    {
     "data": {
      "text/plain": [
       "array([5, 5, 6, 7, 8])"
      ]
     },
     "execution_count": 90,
     "metadata": {},
     "output_type": "execute_result"
    }
   ],
   "source": [
    "arr=np.array([2,3,6,7,8])\n",
    "arr[0:2]=5\n",
    "arr"
   ]
  },
  {
   "cell_type": "code",
   "execution_count": 92,
   "id": "43ebef25-e6b8-4c85-b56a-6b8de211ca9d",
   "metadata": {},
   "outputs": [
    {
     "data": {
      "text/plain": [
       "array([4, 5])"
      ]
     },
     "execution_count": 92,
     "metadata": {},
     "output_type": "execute_result"
    }
   ],
   "source": [
    "#copy\n",
    "arr=np.array([2,3,4,5,7,9])\n",
    "a=arr[2:4].copy()\n",
    "a #the replica we created gets printed"
   ]
  },
  {
   "cell_type": "markdown",
   "id": "f0458010-76c8-4092-b0d1-f91fcab80f40",
   "metadata": {},
   "source": [
    "MULTIDIMENSIONAL ARRAY INDEXING"
   ]
  },
  {
   "cell_type": "code",
   "execution_count": 104,
   "id": "45f71ce7-fa3d-457a-b34f-11c76fde08a3",
   "metadata": {},
   "outputs": [
    {
     "name": "stdout",
     "output_type": "stream",
     "text": [
      "1.2\n",
      "1.2\n"
     ]
    }
   ],
   "source": [
    "b=np.array([[0.0,0.1,0.2,0.3,0.4],\n",
    "           [1.0,1.1,1.2,1.3,1.4],\n",
    "           [2.0,2.1,2.2,2.3,2.4],\n",
    "           [3.0,3.1,3.2,3.3,3.4]])\n",
    "print(b[1][2])\n",
    "print(b[1,2])"
   ]
  },
  {
   "cell_type": "code",
   "execution_count": 106,
   "id": "4ef80914-7075-4077-9387-bb28b4d412c2",
   "metadata": {},
   "outputs": [
    {
     "data": {
      "text/plain": [
       "array([[0. , 0.1, 0.2, 0.3, 0.4],\n",
       "       [1. , 1.1, 1.2, 1.3, 1.4]])"
      ]
     },
     "execution_count": 106,
     "metadata": {},
     "output_type": "execute_result"
    }
   ],
   "source": [
    "b[0:2]"
   ]
  },
  {
   "cell_type": "code",
   "execution_count": 108,
   "id": "6bb4acf6-8ab4-418d-8c38-4897377c96df",
   "metadata": {},
   "outputs": [
    {
     "data": {
      "text/plain": [
       "array([0.2, 1.2])"
      ]
     },
     "execution_count": 108,
     "metadata": {},
     "output_type": "execute_result"
    }
   ],
   "source": [
    "b[0:2,2]"
   ]
  },
  {
   "cell_type": "code",
   "execution_count": 110,
   "id": "db92c780-802a-491e-a729-4d9ef5518a29",
   "metadata": {},
   "outputs": [
    {
     "data": {
      "text/plain": [
       "array([[0. , 0.1],\n",
       "       [1. , 1.1],\n",
       "       [2. , 2.1],\n",
       "       [3. , 3.1]])"
      ]
     },
     "execution_count": 110,
     "metadata": {},
     "output_type": "execute_result"
    }
   ],
   "source": [
    "b[:,0:2]"
   ]
  },
  {
   "cell_type": "code",
   "execution_count": 112,
   "id": "ca1a30e6-f7a3-48cb-9df5-5539f09b6dee",
   "metadata": {},
   "outputs": [
    {
     "data": {
      "text/plain": [
       "array([[0. , 0.1, 0.2, 0.3, 0.4],\n",
       "       [1. , 1.1, 1.2, 1.3, 1.4],\n",
       "       [2. , 2.1, 2.2, 2.3, 2.4],\n",
       "       [3. , 3.1, 3.2, 3.3, 3.4]])"
      ]
     },
     "execution_count": 112,
     "metadata": {},
     "output_type": "execute_result"
    }
   ],
   "source": [
    "b[:,:]"
   ]
  },
  {
   "cell_type": "markdown",
   "id": "d781a902-f941-4592-9cf6-720416da3051",
   "metadata": {},
   "source": [
    "MULTIDIMENSIONAL INDEXING"
   ]
  },
  {
   "cell_type": "code",
   "execution_count": 117,
   "id": "c507d48b-6334-4847-b783-ab069e73bc72",
   "metadata": {},
   "outputs": [
    {
     "data": {
      "text/plain": [
       "array([[17. , 17. , 17. , 17. , 17. ],\n",
       "       [ 1. ,  1.1,  1.2,  1.3,  1.4],\n",
       "       [ 2. ,  2.1,  2.2,  2.3,  2.4],\n",
       "       [ 3. ,  3.1,  3.2,  3.3,  3.4]])"
      ]
     },
     "execution_count": 117,
     "metadata": {},
     "output_type": "execute_result"
    }
   ],
   "source": [
    "b[0]=17\n",
    "b"
   ]
  },
  {
   "cell_type": "code",
   "execution_count": 121,
   "id": "50c5b34f-6944-4819-94fd-3cf36b1cb5fb",
   "metadata": {},
   "outputs": [
    {
     "data": {
      "text/plain": [
       "array([[ 7. ,  7. ,  7. , 17. , 17. ],\n",
       "       [ 1. ,  1.1,  1.2,  1.3,  1.4],\n",
       "       [ 2. ,  2.1,  2.2,  2.3,  2.4],\n",
       "       [ 3. ,  3.1,  3.2,  3.3,  3.4]])"
      ]
     },
     "execution_count": 121,
     "metadata": {},
     "output_type": "execute_result"
    }
   ],
   "source": [
    "b[0,0:3]=7\n",
    "b"
   ]
  },
  {
   "cell_type": "code",
   "execution_count": 123,
   "id": "f7840fb5-2ecc-4242-bafa-a21eb8ed44e9",
   "metadata": {},
   "outputs": [
    {
     "data": {
      "text/plain": [
       "array([[ 7. ,  7. ,  7. , 17. , 99. ],\n",
       "       [ 1. ,  1.1,  1.2,  1.3,  1.4],\n",
       "       [ 2. ,  2.1,  2.2,  2.3,  2.4],\n",
       "       [ 3. ,  3.1,  3.2,  3.3,  3.4]])"
      ]
     },
     "execution_count": 123,
     "metadata": {},
     "output_type": "execute_result"
    }
   ],
   "source": [
    "b[0,4]=99\n",
    "b"
   ]
  },
  {
   "cell_type": "markdown",
   "id": "537b00f3-7812-431e-bc56-c849f2aac240",
   "metadata": {},
   "source": [
    "BOOLEAN INDEXING"
   ]
  },
  {
   "cell_type": "code",
   "execution_count": 126,
   "id": "4a716332-781d-4847-aefb-579587e84e87",
   "metadata": {},
   "outputs": [
    {
     "data": {
      "text/plain": [
       "array([ True, False, False, False, False])"
      ]
     },
     "execution_count": 126,
     "metadata": {},
     "output_type": "execute_result"
    }
   ],
   "source": [
    "names=np.array(['ayu','man','rek','sub','ank'])\n",
    "names=='ayu'"
   ]
  },
  {
   "cell_type": "code",
   "execution_count": 130,
   "id": "d0850cf8-8147-4374-a326-788afff8b84f",
   "metadata": {},
   "outputs": [
    {
     "data": {
      "text/plain": [
       "array([3])"
      ]
     },
     "execution_count": 130,
     "metadata": {},
     "output_type": "execute_result"
    }
   ],
   "source": [
    "nos=np.array([12,3,4,5,6])\n",
    "nos[names=='man']"
   ]
  },
  {
   "cell_type": "code",
   "execution_count": 132,
   "id": "7ac84299-475c-4fd1-9209-899107f77503",
   "metadata": {},
   "outputs": [
    {
     "data": {
      "text/plain": [
       "array([ True,  True,  True,  True, False])"
      ]
     },
     "execution_count": 132,
     "metadata": {},
     "output_type": "execute_result"
    }
   ],
   "source": [
    "names=np.array(['ayu','man','rek','sub','ank'])\n",
    "names!='ank'\n"
   ]
  },
  {
   "cell_type": "code",
   "execution_count": 136,
   "id": "d27a9620-10f7-45fd-ac42-7ef8d3113a50",
   "metadata": {},
   "outputs": [
    {
     "data": {
      "text/plain": [
       "array([12,  3,  4,  5])"
      ]
     },
     "execution_count": 136,
     "metadata": {},
     "output_type": "execute_result"
    }
   ],
   "source": [
    "nos=np.array([12,3,4,5,6])\n",
    "nos[names!='ank']\n",
    "#or\n",
    "nos[~(names=='ank')]"
   ]
  },
  {
   "cell_type": "code",
   "execution_count": 138,
   "id": "f9b8c3e7-32a0-4912-a3d4-9562dd644624",
   "metadata": {},
   "outputs": [
    {
     "data": {
      "text/plain": [
       "array([1234, 5678])"
      ]
     },
     "execution_count": 138,
     "metadata": {},
     "output_type": "execute_result"
    }
   ],
   "source": [
    "names=np.array(['ayushi','sneha','jasmeet'])\n",
    "reg=np.array([1234,3456,5678])\n",
    "cond=(names=='ayushi')|(names=='jasmeet')\n",
    "reg[cond]"
   ]
  },
  {
   "cell_type": "code",
   "execution_count": 150,
   "id": "ee4ffd5e-4d56-42a6-b4d4-b5cf68068861",
   "metadata": {},
   "outputs": [
    {
     "data": {
      "text/plain": [
       "array([65])"
      ]
     },
     "execution_count": 150,
     "metadata": {},
     "output_type": "execute_result"
    }
   ],
   "source": [
    "#question\n",
    "name=np.array(['satya','nitish','chandan','swayam'])\n",
    "roll=np.array([45,13,22,12])\n",
    "marks=np.array([98,65,89,90])\n",
    "marks[name=='nitish']"
   ]
  },
  {
   "cell_type": "markdown",
   "id": "7336a10f-cb58-459d-a6f3-afac7a07c588",
   "metadata": {},
   "source": [
    "REPHRASING THE ARRAY"
   ]
  },
  {
   "cell_type": "code",
   "execution_count": 153,
   "id": "36dd48c6-63ae-4d89-9744-3eef5e29f301",
   "metadata": {},
   "outputs": [],
   "source": [
    "#these commands return a modified array , but dont change orignal array\n",
    "#arr.ravel() - returns the array flattened\n",
    "#arr.reshape(m,n)\n",
    "#arr.T -finds the transpose\n"
   ]
  },
  {
   "cell_type": "code",
   "execution_count": 160,
   "id": "a2538c52-e8c4-4791-90e3-9e72d057da1d",
   "metadata": {},
   "outputs": [
    {
     "name": "stdout",
     "output_type": "stream",
     "text": [
      "[[1 2 3]\n",
      " [3 4 5]]\n",
      "[1 2 3 3 4 5]\n"
     ]
    }
   ],
   "source": [
    "a=np.array([[1,2,3],[3,4,5]])\n",
    "print(a)\n",
    "print(a.ravel())"
   ]
  },
  {
   "cell_type": "code",
   "execution_count": 168,
   "id": "c16dd7e3-845f-4aa1-bb7a-dd9fe129bc18",
   "metadata": {},
   "outputs": [
    {
     "data": {
      "text/plain": [
       "array([[1, 3],\n",
       "       [2, 4],\n",
       "       [3, 5]])"
      ]
     },
     "execution_count": 168,
     "metadata": {},
     "output_type": "execute_result"
    }
   ],
   "source": [
    "a.shape\n",
    "a.reshape(3,2)\n",
    "a.T"
   ]
  },
  {
   "cell_type": "markdown",
   "id": "95532815-ba93-424a-9851-083bd6fa9659",
   "metadata": {},
   "source": [
    "FANCY INDEXING"
   ]
  },
  {
   "cell_type": "code",
   "execution_count": 175,
   "id": "1f07f5c1-636d-47e1-b0d9-a1ef4150c902",
   "metadata": {},
   "outputs": [
    {
     "data": {
      "text/plain": [
       "array([100, 200, 300, 500])"
      ]
     },
     "execution_count": 175,
     "metadata": {},
     "output_type": "execute_result"
    }
   ],
   "source": [
    "a=np.array([0,100,200,300,400,500,600])\n",
    "selected=a[[1,2,3,5]]\n",
    "selected"
   ]
  },
  {
   "cell_type": "code",
   "execution_count": 179,
   "id": "305e111a-6a1e-4bb5-a245-7240394c055e",
   "metadata": {},
   "outputs": [
    {
     "data": {
      "text/plain": [
       "array([[0., 0., 0., 0.],\n",
       "       [1., 1., 1., 1.],\n",
       "       [2., 2., 2., 2.],\n",
       "       [3., 3., 3., 3.],\n",
       "       [4., 4., 4., 4.],\n",
       "       [5., 5., 5., 5.],\n",
       "       [6., 6., 6., 6.],\n",
       "       [7., 7., 7., 7.]])"
      ]
     },
     "execution_count": 179,
     "metadata": {},
     "output_type": "execute_result"
    }
   ],
   "source": [
    "a=np.zeros((8,4))\n",
    "for i in range(8):\n",
    "    a[i]=i\n",
    "\n",
    "a"
   ]
  },
  {
   "cell_type": "code",
   "execution_count": 181,
   "id": "aab854a5-1dc5-483f-936e-43bf39c180bd",
   "metadata": {},
   "outputs": [
    {
     "data": {
      "text/plain": [
       "array([[4., 4., 4., 4.],\n",
       "       [3., 3., 3., 3.],\n",
       "       [0., 0., 0., 0.],\n",
       "       [6., 6., 6., 6.]])"
      ]
     },
     "execution_count": 181,
     "metadata": {},
     "output_type": "execute_result"
    }
   ],
   "source": [
    "a[[4,3,0,6]]"
   ]
  },
  {
   "cell_type": "code",
   "execution_count": 183,
   "id": "ad765328-2d6a-402c-8d61-a73890cf895e",
   "metadata": {},
   "outputs": [
    {
     "data": {
      "text/plain": [
       "array([[5., 5., 5., 5.],\n",
       "       [3., 3., 3., 3.],\n",
       "       [1., 1., 1., 1.]])"
      ]
     },
     "execution_count": 183,
     "metadata": {},
     "output_type": "execute_result"
    }
   ],
   "source": [
    "a[[-3,-5,-7]]"
   ]
  },
  {
   "cell_type": "code",
   "execution_count": 185,
   "id": "9925239c-7b60-4893-9eaa-a4421f5bfefa",
   "metadata": {},
   "outputs": [
    {
     "data": {
      "text/plain": [
       "array([1., 5., 7., 2.])"
      ]
     },
     "execution_count": 185,
     "metadata": {},
     "output_type": "execute_result"
    }
   ],
   "source": [
    "a[[1,5,7,2],[0,3,1,2]]\n"
   ]
  },
  {
   "cell_type": "markdown",
   "id": "cbd920ae-7aad-4eb5-a840-5a8e6a66274a",
   "metadata": {},
   "source": [
    "NUMPY RANDOM"
   ]
  },
  {
   "cell_type": "code",
   "execution_count": 188,
   "id": "c24b3fa1-09fc-404c-8118-31e0bb7cf6c9",
   "metadata": {},
   "outputs": [
    {
     "data": {
      "text/plain": [
       "array([[0.69305759, 0.55595191, 0.59729678],\n",
       "       [0.95798791, 0.2700574 , 0.13549412]])"
      ]
     },
     "execution_count": 188,
     "metadata": {},
     "output_type": "execute_result"
    }
   ],
   "source": [
    "np.random.rand(2,3)"
   ]
  },
  {
   "cell_type": "code",
   "execution_count": 190,
   "id": "9338ce84-beae-4fa5-9e43-378e787213ae",
   "metadata": {},
   "outputs": [
    {
     "data": {
      "text/plain": [
       "array([[ 1.44668262, -0.78684321, -0.34821083],\n",
       "       [-1.57022655, -0.19745221,  1.04498719]])"
      ]
     },
     "execution_count": 190,
     "metadata": {},
     "output_type": "execute_result"
    }
   ],
   "source": [
    "np.random.randn(2,3)"
   ]
  },
  {
   "cell_type": "code",
   "execution_count": 194,
   "id": "4d535832-a876-47e5-a510-159a04a3e63d",
   "metadata": {},
   "outputs": [
    {
     "data": {
      "text/plain": [
       "array([[3, 6, 6],\n",
       "       [1, 1, 8]])"
      ]
     },
     "execution_count": 194,
     "metadata": {},
     "output_type": "execute_result"
    }
   ],
   "source": [
    "np.random.randint(1,9,(2,3))\n",
    "#random nos from 1 to9 with 2,3 size of matrix"
   ]
  },
  {
   "cell_type": "code",
   "execution_count": 201,
   "id": "bcd1b622-c07c-44e1-89cb-61245981119e",
   "metadata": {},
   "outputs": [
    {
     "data": {
      "text/plain": [
       "array([[4, 4, 3],\n",
       "       [5, 5, 5]])"
      ]
     },
     "execution_count": 201,
     "metadata": {},
     "output_type": "execute_result"
    }
   ],
   "source": [
    "np.random.choice([1,2,3,4,5],size=(2,3))"
   ]
  },
  {
   "cell_type": "markdown",
   "id": "c736959b-eb57-4cad-9ac4-a763860705bf",
   "metadata": {},
   "source": [
    "NUMPY random FOR SAMPLING"
   ]
  },
  {
   "cell_type": "code",
   "execution_count": 227,
   "id": "95a92129-2ce7-4511-88a9-b5a5d2a9fc52",
   "metadata": {},
   "outputs": [
    {
     "data": {
      "text/plain": [
       "array([ 0.74196658, -0.50904523, -0.54177491,  1.61152014, -0.09930853,\n",
       "        0.04415347,  0.22242284,  0.06804761, -0.91483974,  1.40034505])"
      ]
     },
     "execution_count": 227,
     "metadata": {},
     "output_type": "execute_result"
    }
   ],
   "source": [
    "mean=0\n",
    "stddev=1\n",
    "s=np.random.normal(mean,stddev,10) #10 is the size\n",
    "s"
   ]
  },
  {
   "cell_type": "code",
   "execution_count": 229,
   "id": "e5ea8041-9239-49bd-ba03-6a0f2a7e6c49",
   "metadata": {},
   "outputs": [
    {
     "data": {
      "text/plain": [
       "array([ 0.65255983, -0.20107132, -0.54155435,  0.71152966,  0.61021773,\n",
       "        0.40430152,  0.8003348 ,  0.48827296,  0.24879049,  0.06385036])"
      ]
     },
     "execution_count": 229,
     "metadata": {},
     "output_type": "execute_result"
    }
   ],
   "source": [
    "low=-1\n",
    "high=1\n",
    "a=np.random.uniform(low,high,10)#10 is the size\n",
    "a"
   ]
  },
  {
   "cell_type": "markdown",
   "id": "70505fe5-0d59-44bf-b94b-47695fbe6039",
   "metadata": {},
   "source": [
    "VISUALIZING NORMAL DISTRIBUTION"
   ]
  },
  {
   "cell_type": "code",
   "execution_count": 237,
   "id": "fea68d9f-ef34-4278-b3be-0a491710a20e",
   "metadata": {},
   "outputs": [
    {
     "data": {
      "text/plain": [
       "(array([  8.,  26.,  77., 151., 241., 242., 155.,  72.,  20.,   8.]),\n",
       " array([-3.0965209 , -2.47306399, -1.84960708, -1.22615017, -0.60269327,\n",
       "         0.02076364,  0.64422055,  1.26767746,  1.89113436,  2.51459127,\n",
       "         3.13804818]),\n",
       " <BarContainer object of 10 artists>)"
      ]
     },
     "execution_count": 237,
     "metadata": {},
     "output_type": "execute_result"
    },
    {
     "data": {
      "image/png": "[encoded data removed]",
      "text/plain": [
       "<Figure size 640x480 with 1 Axes>"
      ]
     },
     "metadata": {},
     "output_type": "display_data"
    }
   ],
   "source": [
    "import matplotlib.pyplot as plt\n",
    "s=np.random.normal(mean,stddev,1000)\n",
    "plt.hist(s)"
   ]
  },
  {
   "cell_type": "code",
   "execution_count": 243,
   "id": "2a984f6f-c2e8-41c3-b2a9-aa7e316c4daf",
   "metadata": {},
   "outputs": [
    {
     "data": {
      "text/plain": [
       "(array([1012., 1028., 1014., 1010., 1050.,  977., 1012.,  964.,  955.,\n",
       "         978.]),\n",
       " array([4.11135612e-04, 1.00361112e-01, 2.00311089e-01, 3.00261065e-01,\n",
       "        4.00211042e-01, 5.00161018e-01, 6.00110995e-01, 7.00060972e-01,\n",
       "        8.00010948e-01, 8.99960925e-01, 9.99910901e-01]),\n",
       " <BarContainer object of 10 artists>)"
      ]
     },
     "execution_count": 243,
     "metadata": {},
     "output_type": "execute_result"
    },
    {
     "data": {
      "image/png": "[encoded data removed]",
      "text/plain": [
       "<Figure size 640x480 with 1 Axes>"
      ]
     },
     "metadata": {},
     "output_type": "display_data"
    }
   ],
   "source": [
    "import matplotlib.pyplot as plt\n",
    "s=np.random.uniform(0,1,10000)\n",
    "plt.hist(s)"
   ]
  },
  {
   "cell_type": "code",
   "execution_count": 245,
   "id": "a27c322d-6fe1-4e11-b46a-b31eb87b3309",
   "metadata": {},
   "outputs": [
    {
     "data": {
      "text/plain": [
       "(array([  2.,  21.,  59., 141., 249., 258., 177.,  62.,  23.,   8.]),\n",
       " array([-3.45352102, -2.77607079, -2.09862055, -1.42117032, -0.74372008,\n",
       "        -0.06626985,  0.61118038,  1.28863062,  1.96608085,  2.64353109,\n",
       "         3.32098132]),\n",
       " <BarContainer object of 10 artists>)"
      ]
     },
     "execution_count": 245,
     "metadata": {},
     "output_type": "execute_result"
    },
    {
     "data": {
      "image/png": "[encoded data removed]",
      "text/plain": [
       "<Figure size 640x480 with 1 Axes>"
      ]
     },
     "metadata": {},
     "output_type": "display_data"
    }
   ],
   "source": [
    "import matplotlib.pyplot as plt\n",
    "s=np.random.normal(mean,stddev,1000)\n",
    "plt.hist(s)"
   ]
  },
  {
   "cell_type": "code",
   "execution_count": 247,
   "id": "8dfaed86-38ba-4067-a270-6839149aa807",
   "metadata": {},
   "outputs": [
    {
     "data": {
      "text/plain": [
       "(array([1044., 1015.,  996., 1065.,  972., 1020.,  964.,  981.,  970.,\n",
       "         973.]),\n",
       " array([7.56179058e-05, 1.00061381e-01, 2.00047144e-01, 3.00032907e-01,\n",
       "        4.00018670e-01, 5.00004433e-01, 5.99990196e-01, 6.99975958e-01,\n",
       "        7.99961721e-01, 8.99947484e-01, 9.99933247e-01]),\n",
       " <BarContainer object of 10 artists>)"
      ]
     },
     "execution_count": 247,
     "metadata": {},
     "output_type": "execute_result"
    },
    {
     "data": {
      "image/png": "[encoded data removed]",
      "text/plain": [
       "<Figure size 640x480 with 1 Axes>"
      ]
     },
     "metadata": {},
     "output_type": "display_data"
    }
   ],
   "source": [
    "import matplotlib.pyplot as plt\n",
    "s=np.random.uniform(0,1,10000)\n",
    "plt.hist(s)"
   ]
  },
  {
   "cell_type": "markdown",
   "id": "a747ad4f-4317-44b5-8084-e8ca2c30b31b",
   "metadata": {},
   "source": [
    "WAYS TO USE RANDOM MODULE"
   ]
  },
  {
   "cell_type": "code",
   "execution_count": 254,
   "id": "a5f5cab7-b75f-4613-a016-fdc04db88fd0",
   "metadata": {},
   "outputs": [
    {
     "data": {
      "text/plain": [
       "array([[ 1.11050851, -0.46017578, -1.20266803],\n",
       "       [ 0.24645757,  0.30729131,  0.16588669]])"
      ]
     },
     "execution_count": 254,
     "metadata": {},
     "output_type": "execute_result"
    }
   ],
   "source": [
    "rng=np.random.default_rng()\n",
    "data=rng.standard_normal((2,3))\n",
    "data"
   ]
  },
  {
   "cell_type": "code",
   "execution_count": 256,
   "id": "04bd7866-5b3c-4871-a7f2-ba1037ba9efd",
   "metadata": {},
   "outputs": [
    {
     "data": {
      "text/plain": [
       "array([[-1.42382504,  1.26372846, -0.87066174],\n",
       "       [-0.25917323, -0.07534331, -0.74088465]])"
      ]
     },
     "execution_count": 256,
     "metadata": {},
     "output_type": "execute_result"
    }
   ],
   "source": [
    "rng=np.random.default_rng(seed=12345)\n",
    "data=rng.standard_normal((2,3))\n",
    "data"
   ]
  },
  {
   "cell_type": "code",
   "execution_count": null,
   "id": "065afdfd-3ec1-43ad-879f-ccbc4da01e70",
   "metadata": {},
   "outputs": [],
   "source": [
    "#universal functions\n",
    "#also known as ufunc\n",
    "#some take 1 arr as an argument-> unary ufuncs\n",
    "#ex- exponential,sqroot"
   ]
  },
  {
   "cell_type": "code",
   "execution_count": 260,
   "id": "e6bd4ce9-bd66-4d00-b7f6-73d90be65649",
   "metadata": {},
   "outputs": [
    {
     "data": {
      "text/plain": [
       "array([0, 1, 2, 3, 4, 5, 6, 7, 8, 9])"
      ]
     },
     "execution_count": 260,
     "metadata": {},
     "output_type": "execute_result"
    }
   ],
   "source": [
    "arr=np.arange(10)\n",
    "arr"
   ]
  },
  {
   "cell_type": "code",
   "execution_count": 262,
   "id": "6e9772be-c743-4315-904d-33e2ae792d96",
   "metadata": {},
   "outputs": [
    {
     "data": {
      "text/plain": [
       "array([0.        , 1.        , 1.41421356, 1.73205081, 2.        ,\n",
       "       2.23606798, 2.44948974, 2.64575131, 2.82842712, 3.        ])"
      ]
     },
     "execution_count": 262,
     "metadata": {},
     "output_type": "execute_result"
    }
   ],
   "source": [
    "np.sqrt(arr)"
   ]
  },
  {
   "cell_type": "code",
   "execution_count": 264,
   "id": "aa3efe3d-b0fa-4445-a3f2-2bb406d6af11",
   "metadata": {},
   "outputs": [
    {
     "data": {
      "text/plain": [
       "array([1.00000000e+00, 2.71828183e+00, 7.38905610e+00, 2.00855369e+01,\n",
       "       5.45981500e+01, 1.48413159e+02, 4.03428793e+02, 1.09663316e+03,\n",
       "       2.98095799e+03, 8.10308393e+03])"
      ]
     },
     "execution_count": 264,
     "metadata": {},
     "output_type": "execute_result"
    }
   ],
   "source": [
    "np.exp(arr)"
   ]
  },
  {
   "cell_type": "markdown",
   "id": "79e4ee58-70f0-47a6-b2db-defa8a527cef",
   "metadata": {},
   "source": [
    "Ufunc   "
   ]
  },
  {
   "cell_type": "code",
   "execution_count": 269,
   "id": "d2c7682c-e402-4f71-a172-91a04c0c078b",
   "metadata": {},
   "outputs": [
    {
     "name": "stdout",
     "output_type": "stream",
     "text": [
      "[ 0.16217731  1.48622119 -0.70011228 -0.19906514 -1.64261011 -1.01085523\n",
      "  0.32942942 -1.58157952]\n",
      "[-1.74547161 -0.22434806 -0.66896652 -0.23642266 -0.60704595  0.65386423\n",
      " -0.47794502  0.06699553]\n"
     ]
    },
    {
     "data": {
      "text/plain": [
       "array([ 0.16217731,  1.48622119, -0.66896652, -0.19906514, -0.60704595,\n",
       "        0.65386423,  0.32942942,  0.06699553])"
      ]
     },
     "execution_count": 269,
     "metadata": {},
     "output_type": "execute_result"
    }
   ],
   "source": [
    "#some takes two arrays they ar3e called binary ufunc\n",
    "#we can add and mul\n",
    "rng=np.random.default_rng()\n",
    "x=rng.standard_normal(8)\n",
    "y=rng.standard_normal(8)\n",
    "print(x)\n",
    "print(y)\n",
    "np.maximum(x,y)"
   ]
  },
  {
   "cell_type": "code",
   "execution_count": 271,
   "id": "4ba7f265-54ed-49be-8533-e9640375ae2f",
   "metadata": {},
   "outputs": [
    {
     "data": {
      "text/plain": [
       "array([-1.5832943 ,  1.26187313, -1.3690788 , -0.4354878 , -2.24965606,\n",
       "       -0.356991  , -0.1485156 , -1.51458399])"
      ]
     },
     "execution_count": 271,
     "metadata": {},
     "output_type": "execute_result"
    }
   ],
   "source": [
    "np.add(x,y) #returns single array"
   ]
  },
  {
   "cell_type": "code",
   "execution_count": 277,
   "id": "55bf1713-676d-4db0-bc91-87f61026953d",
   "metadata": {},
   "outputs": [
    {
     "data": {
      "text/plain": [
       "array([  4.64972283,   0.64154417, -10.41411699,  -3.26784982,\n",
       "        -0.09716842,  -8.16882616,  -4.58821609])"
      ]
     },
     "execution_count": 277,
     "metadata": {},
     "output_type": "execute_result"
    }
   ],
   "source": [
    "#returns multiple arrays\n",
    "arr=rng.standard_normal(7)*5\n",
    "arr"
   ]
  },
  {
   "cell_type": "code",
   "execution_count": 279,
   "id": "1c117aa6-574d-4ef4-a03c-72c4f169711d",
   "metadata": {},
   "outputs": [
    {
     "name": "stdout",
     "output_type": "stream",
     "text": [
      "rem: [ 0.64972283  0.64154417 -0.41411699 -0.26784982 -0.09716842 -0.16882616\n",
      " -0.58821609]\n",
      "whole part: [  4.   0. -10.  -3.  -0.  -8.  -4.]\n"
     ]
    }
   ],
   "source": [
    "remainder,wholepart=np.modf(arr)\n",
    "print(\"rem:\",remainder)\n",
    "print(\"whole part:\", wholepart)"
   ]
  },
  {
   "cell_type": "code",
   "execution_count": 281,
   "id": "e3ddd528-6860-4f0b-b922-11ad53851858",
   "metadata": {},
   "outputs": [
    {
     "data": {
      "text/plain": [
       "array([  4.64972283,   0.64154417, -10.41411699,  -3.26784982,\n",
       "        -0.09716842,  -8.16882616,  -4.58821609])"
      ]
     },
     "execution_count": 281,
     "metadata": {},
     "output_type": "execute_result"
    }
   ],
   "source": [
    "arr"
   ]
  },
  {
   "cell_type": "code",
   "execution_count": 284,
   "id": "e161da5d-e995-49ac-8f90-cc7ef174d98e",
   "metadata": {},
   "outputs": [
    {
     "data": {
      "text/plain": [
       "array([0., 0., 0., 0., 0., 0., 0.])"
      ]
     },
     "execution_count": 284,
     "metadata": {},
     "output_type": "execute_result"
    }
   ],
   "source": [
    "out=np.zeros(7)\n",
    "out"
   ]
  },
  {
   "cell_type": "code",
   "execution_count": 286,
   "id": "ff9aca95-071c-44b4-825b-4f2cf369c19d",
   "metadata": {},
   "outputs": [
    {
     "data": {
      "text/plain": [
       "array([ 5.64972283,  1.64154417, -9.41411699, -2.26784982,  0.90283158,\n",
       "       -7.16882616, -3.58821609])"
      ]
     },
     "execution_count": 286,
     "metadata": {},
     "output_type": "execute_result"
    }
   ],
   "source": [
    "np.add(arr,1,out=out)\n",
    "out\n"
   ]
  },
  {
   "cell_type": "markdown",
   "id": "f249da77-0ae5-4748-aedb-b07b477fd34f",
   "metadata": {},
   "source": [
    "MESHGRID"
   ]
  },
  {
   "cell_type": "code",
   "execution_count": 294,
   "id": "3792cc3f-ae1c-4664-b72f-d7a145d5faaf",
   "metadata": {},
   "outputs": [
    {
     "name": "stdout",
     "output_type": "stream",
     "text": [
      "X:\n",
      "[[0 1 2 3]\n",
      " [0 1 2 3]\n",
      " [0 1 2 3]]\n",
      "\n",
      "Y:\n",
      "[[0 0 0 0]\n",
      " [1 1 1 1]\n",
      " [2 2 2 2]]\n"
     ]
    }
   ],
   "source": [
    "import numpy as np\n",
    "\n",
    "x = np.array([0, 1, 2, 3])\n",
    "y = np.array([0, 1, 2])\n",
    "\n",
    "# Create the meshgrid\n",
    "X, Y = np.meshgrid(x, y)\n",
    "\n",
    "print(\"X:\")\n",
    "print(X)\n",
    "\n",
    "print(\"\\nY:\")\n",
    "print(Y)\n"
   ]
  },
  {
   "cell_type": "code",
   "execution_count": 302,
   "id": "805c2cd3-daf2-41cb-9f8e-584d03134886",
   "metadata": {},
   "outputs": [
    {
     "name": "stdout",
     "output_type": "stream",
     "text": [
      "x= [[0 1 2 3 4]\n",
      " [0 1 2 3 4]\n",
      " [0 1 2 3 4]\n",
      " [0 1 2 3 4]]\n",
      "y= [[0 0 0 0 0]\n",
      " [1 1 1 1 1]\n",
      " [2 2 2 2 2]\n",
      " [3 3 3 3 3]]\n"
     ]
    }
   ],
   "source": [
    "import numpy as np\n",
    "x=np.array([0,1,2,3,4])\n",
    "y=np.array([0,1,2,3])\n",
    "X,Y=np.meshgrid(x,y)\n",
    "print(\"x=\",X)\n",
    "\n",
    "print(\"y=\",Y)"
   ]
  },
  {
   "cell_type": "code",
   "execution_count": 304,
   "id": "3ea19ead-5136-481b-8ba3-8c02980ff6ed",
   "metadata": {},
   "outputs": [
    {
     "name": "stdout",
     "output_type": "stream",
     "text": [
      "[[0 1]\n",
      " [0 1]]\n",
      "[[0 0]\n",
      " [1 1]]\n"
     ]
    }
   ],
   "source": [
    "points=np.arange(0,2)\n",
    "xs,ys=np.meshgrid(points,points)\n",
    "print(xs)\n",
    "print(ys)\n"
   ]
  },
  {
   "cell_type": "code",
   "execution_count": 308,
   "id": "b7881cfd-8297-4412-a147-1ade800198f5",
   "metadata": {},
   "outputs": [
    {
     "name": "stdout",
     "output_type": "stream",
     "text": [
      "x= [[0 1]\n",
      " [0 1]]\n",
      "y= [[0 0]\n",
      " [1 1]]\n"
     ]
    }
   ],
   "source": [
    "import numpy as np\n",
    "x=np.arange(0,2)\n",
    "y=np.arange(0,2)\n",
    "X,Y=np.meshgrid(x,y)\n",
    "print('x=',X)\n",
    "print('y=',Y)"
   ]
  },
  {
   "cell_type": "code",
   "execution_count": 310,
   "id": "3f5b007f-e6cd-4dcd-85ff-e652dd0dd848",
   "metadata": {},
   "outputs": [
    {
     "data": {
      "text/plain": [
       "array([[0.        , 1.        ],\n",
       "       [1.        , 1.41421356]])"
      ]
     },
     "execution_count": 310,
     "metadata": {},
     "output_type": "execute_result"
    }
   ],
   "source": [
    "z=np.sqrt(X**2 + Y**2)\n",
    "z"
   ]
  },
  {
   "cell_type": "markdown",
   "id": "b9440aef-bd20-4469-9754-5d48226728cc",
   "metadata": {},
   "source": [
    "CONDITIONAL LOGIC AS ARRAY OPERATION"
   ]
  },
  {
   "cell_type": "code",
   "execution_count": 319,
   "id": "cc81ed81-826c-4272-b2ed-2e0fefc9e294",
   "metadata": {},
   "outputs": [
    {
     "data": {
      "text/plain": [
       "[1, 6, 7, 4]"
      ]
     },
     "execution_count": 319,
     "metadata": {},
     "output_type": "execute_result"
    }
   ],
   "source": [
    "xarr=np.array([1,2,3,4])\n",
    "yarr=np.array([5,6,7,8])\n",
    "condition=np.array([True,False,False,True])\n",
    "result=[]\n",
    "for x,y,c in zip(xarr,yarr,condition):\n",
    "    if c:\n",
    "        result.append(x)\n",
    "    else:\n",
    "        result.append(y)\n",
    "result\n",
    "    "
   ]
  },
  {
   "cell_type": "code",
   "execution_count": 344,
   "id": "52e25476-bb0a-41fa-bae2-a7c008569254",
   "metadata": {},
   "outputs": [
    {
     "name": "stdout",
     "output_type": "stream",
     "text": [
      "\n",
      "Boolean array (arr > 0):\n",
      " [[ True  True False  True]\n",
      " [False False  True False]\n",
      " [False  True  True  True]\n",
      " [ True False  True  True]]\n"
     ]
    },
    {
     "data": {
      "text/plain": [
       "array([[ 2,  2, -2,  2],\n",
       "       [-2, -2,  2, -2],\n",
       "       [-2,  2,  2,  2],\n",
       "       [ 2, -2,  2,  2]])"
      ]
     },
     "execution_count": 344,
     "metadata": {},
     "output_type": "execute_result"
    }
   ],
   "source": [
    "import numpy as np\n",
    "rng=np.random.default_rng()\n",
    "arr = rng.standard_normal((4, 4))  # Generates a 4x4 array with random numbers from a normal distribution\n",
    "\n",
    "result = arr > 0  # Checks if each element is greater than 0, returns a Boolean array\n",
    "print(\"\\nBoolean array (arr > 0):\\n\", result)\n",
    "np.where(arr>0,2,-2)"
   ]
  },
  {
   "cell_type": "code",
   "execution_count": 350,
   "id": "fcfa1cde-821b-417a-9fee-d30ecf190a15",
   "metadata": {},
   "outputs": [
    {
     "data": {
      "text/plain": [
       "array([[ 1.54338647,  1.47739227,  0.57908637, -0.5038841 ],\n",
       "       [ 0.94972189, -1.30034954, -1.15883977,  0.18108962],\n",
       "       [-1.48281527,  1.10913031, -1.23942737,  0.048064  ],\n",
       "       [-0.39470162, -0.21437111, -0.89089622,  0.95651066],\n",
       "       [-1.61620425,  0.93192442,  1.47908621,  1.58137513]])"
      ]
     },
     "execution_count": 350,
     "metadata": {},
     "output_type": "execute_result"
    }
   ],
   "source": [
    "arr=rng.standard_normal((5,4))\n",
    "arr"
   ]
  },
  {
   "cell_type": "code",
   "execution_count": 354,
   "id": "f85ef655-78d3-4150-96e6-0ace54ac0133",
   "metadata": {},
   "outputs": [
    {
     "name": "stdout",
     "output_type": "stream",
     "text": [
      "0.10176390495679515\n",
      "0.10176390495679515\n"
     ]
    }
   ],
   "source": [
    "print(arr.mean())\n",
    "print(np.mean(arr))"
   ]
  },
  {
   "cell_type": "code",
   "execution_count": 358,
   "id": "2175f75c-5eb3-4ef0-851b-158d139449a1",
   "metadata": {},
   "outputs": [
    {
     "name": "stdout",
     "output_type": "stream",
     "text": [
      "2.035278099135903\n",
      "2.035278099135903\n"
     ]
    }
   ],
   "source": [
    "print(arr.sum())\n",
    "print(np.sum(arr))"
   ]
  },
  {
   "cell_type": "code",
   "execution_count": 360,
   "id": "8e1a0ab2-e492-4b4e-a22e-956345095cae",
   "metadata": {},
   "outputs": [
    {
     "data": {
      "text/plain": [
       "array([3, 7])"
      ]
     },
     "execution_count": 360,
     "metadata": {},
     "output_type": "execute_result"
    }
   ],
   "source": [
    "#axis=1 -> sums across cols\n",
    "#axis=0 -> sums across rows\n",
    "a=np.array([[1,2],[3,4]])\n",
    "a.sum(axis=1)\n"
   ]
  },
  {
   "cell_type": "code",
   "execution_count": 362,
   "id": "9f0edc1b-11cd-420f-a8d8-28cc9098bb99",
   "metadata": {},
   "outputs": [
    {
     "data": {
      "text/plain": [
       "array([4, 6])"
      ]
     },
     "execution_count": 362,
     "metadata": {},
     "output_type": "execute_result"
    }
   ],
   "source": [
    "a.sum(axis=0)"
   ]
  },
  {
   "cell_type": "code",
   "execution_count": 364,
   "id": "86990c52-c415-4ad3-bb65-b7ed0dec48df",
   "metadata": {},
   "outputs": [
    {
     "data": {
      "text/plain": [
       "47"
      ]
     },
     "execution_count": 364,
     "metadata": {},
     "output_type": "execute_result"
    }
   ],
   "source": [
    "#methods for boolean arrays\n",
    "rng=np.random.default_rng()\n",
    "arr=rng.standard_normal(100)\n",
    "(arr<0).sum()"
   ]
  },
  {
   "cell_type": "code",
   "execution_count": 366,
   "id": "b85ec298-3bfe-4a83-91c8-bb3c08c40566",
   "metadata": {},
   "outputs": [
    {
     "data": {
      "text/plain": [
       "array([ True,  True,  True, False, False,  True, False,  True, False,\n",
       "       False,  True, False,  True, False,  True,  True,  True,  True,\n",
       "       False,  True,  True,  True, False, False,  True, False,  True,\n",
       "       False,  True, False, False,  True,  True,  True, False, False,\n",
       "        True, False,  True, False, False, False, False, False,  True,\n",
       "       False,  True,  True, False, False, False, False, False,  True,\n",
       "        True,  True, False, False, False,  True, False,  True, False,\n",
       "        True,  True, False, False, False, False,  True,  True,  True,\n",
       "        True,  True, False, False, False,  True, False, False,  True,\n",
       "       False,  True, False,  True,  True, False, False, False,  True,\n",
       "       False, False, False,  True, False, False,  True, False,  True,\n",
       "        True])"
      ]
     },
     "execution_count": 366,
     "metadata": {},
     "output_type": "execute_result"
    }
   ],
   "source": [
    "arr<0"
   ]
  },
  {
   "cell_type": "code",
   "execution_count": 368,
   "id": "15358c4a-1681-4bdd-b36d-29bbf9525d26",
   "metadata": {},
   "outputs": [
    {
     "data": {
      "text/plain": [
       "-2.3615982054156817"
      ]
     },
     "execution_count": 368,
     "metadata": {},
     "output_type": "execute_result"
    }
   ],
   "source": [
    "arr.sum()"
   ]
  },
  {
   "cell_type": "code",
   "execution_count": 370,
   "id": "47f674d6-8547-47a2-a97b-e711a5a6d0e8",
   "metadata": {},
   "outputs": [
    {
     "data": {
      "text/plain": [
       "47"
      ]
     },
     "execution_count": 370,
     "metadata": {},
     "output_type": "execute_result"
    }
   ],
   "source": [
    "(arr<0).sum()"
   ]
  },
  {
   "cell_type": "code",
   "execution_count": 372,
   "id": "a24b5606-d756-4544-8f33-6cd836bc2e4e",
   "metadata": {},
   "outputs": [
    {
     "data": {
      "text/plain": [
       "True"
      ]
     },
     "execution_count": 372,
     "metadata": {},
     "output_type": "execute_result"
    }
   ],
   "source": [
    "#any()-> if 1 or more values are true in an array\n",
    "#all() -> checks if every value is true\n",
    "any([1,2,0])"
   ]
  },
  {
   "cell_type": "code",
   "execution_count": 374,
   "id": "a0764971-f06f-443e-9720-b8c539b2aa0e",
   "metadata": {},
   "outputs": [
    {
     "data": {
      "text/plain": [
       "False"
      ]
     },
     "execution_count": 374,
     "metadata": {},
     "output_type": "execute_result"
    }
   ],
   "source": [
    "all([1,2,0])"
   ]
  },
  {
   "cell_type": "code",
   "execution_count": 376,
   "id": "dd21e96a-11d8-4841-baec-74378fcb72b0",
   "metadata": {},
   "outputs": [
    {
     "data": {
      "text/plain": [
       "True"
      ]
     },
     "execution_count": 376,
     "metadata": {},
     "output_type": "execute_result"
    }
   ],
   "source": [
    "any(np.array([1,2,0,6]))"
   ]
  },
  {
   "cell_type": "code",
   "execution_count": 378,
   "id": "dbc7cc57-5a4e-47f2-be83-04cddfa034cb",
   "metadata": {},
   "outputs": [
    {
     "data": {
      "text/plain": [
       "False"
      ]
     },
     "execution_count": 378,
     "metadata": {},
     "output_type": "execute_result"
    }
   ],
   "source": [
    "any(np.array([0,0,0]))"
   ]
  },
  {
   "cell_type": "code",
   "execution_count": 380,
   "id": "6cc9e002-43a9-4f9a-aa9d-12aed7a8a950",
   "metadata": {},
   "outputs": [
    {
     "data": {
      "text/plain": [
       "True"
      ]
     },
     "execution_count": 380,
     "metadata": {},
     "output_type": "execute_result"
    }
   ],
   "source": [
    "any([1,1,1])"
   ]
  },
  {
   "cell_type": "code",
   "execution_count": 382,
   "id": "5bf818d4-2c8f-482c-8634-d565545ec6b8",
   "metadata": {},
   "outputs": [
    {
     "name": "stdout",
     "output_type": "stream",
     "text": [
      "True\n",
      "False\n"
     ]
    }
   ],
   "source": [
    "a=np.array([True,False,True,False])\n",
    "print(a.any())\n",
    "print(a.all())"
   ]
  },
  {
   "cell_type": "markdown",
   "id": "935dd5b9-c2ca-464b-971e-716cda5b272e",
   "metadata": {},
   "source": [
    "SORTING"
   ]
  },
  {
   "cell_type": "code",
   "execution_count": 9,
   "id": "1394cfd0-6ed8-47c0-8aae-ce50bf933581",
   "metadata": {},
   "outputs": [
    {
     "data": {
      "text/plain": [
       "array([ 0.18343173, -0.51057306, -2.22244522, -0.39358547, -0.15522687,\n",
       "       -0.44023128,  0.45646917,  0.59373676,  1.26003944, -0.07729723])"
      ]
     },
     "execution_count": 9,
     "metadata": {},
     "output_type": "execute_result"
    }
   ],
   "source": [
    "import numpy as np\n",
    "rng=np.random.default_rng()\n",
    "a=rng.standard_normal(10)\n",
    "a"
   ]
  },
  {
   "cell_type": "code",
   "execution_count": 11,
   "id": "265d10ce-dd07-40ca-9335-6632a80c5eab",
   "metadata": {},
   "outputs": [
    {
     "data": {
      "text/plain": [
       "array([-2.22244522, -0.51057306, -0.44023128, -0.39358547, -0.15522687,\n",
       "       -0.07729723,  0.18343173,  0.45646917,  0.59373676,  1.26003944])"
      ]
     },
     "execution_count": 11,
     "metadata": {},
     "output_type": "execute_result"
    }
   ],
   "source": [
    "a.sort()\n",
    "a"
   ]
  },
  {
   "cell_type": "code",
   "execution_count": 13,
   "id": "6a6dc2a5-48d9-4930-a4c5-0ab4792aff87",
   "metadata": {},
   "outputs": [
    {
     "data": {
      "text/plain": [
       "array([[ 0.10993142,  1.30176018, -0.86821304],\n",
       "       [ 0.1569207 , -0.44244555, -0.76818476],\n",
       "       [-0.9125159 , -0.99672709,  0.07141202]])"
      ]
     },
     "execution_count": 13,
     "metadata": {},
     "output_type": "execute_result"
    }
   ],
   "source": [
    "a=rng.standard_normal(9).reshape(3,3)\n",
    "a"
   ]
  },
  {
   "cell_type": "code",
   "execution_count": 15,
   "id": "8e81bd5a-8899-4f43-9b1c-a6bb15e5825b",
   "metadata": {},
   "outputs": [
    {
     "data": {
      "text/plain": [
       "array([[-0.86821304,  0.10993142,  1.30176018],\n",
       "       [-0.76818476, -0.44244555,  0.1569207 ],\n",
       "       [-0.99672709, -0.9125159 ,  0.07141202]])"
      ]
     },
     "execution_count": 15,
     "metadata": {},
     "output_type": "execute_result"
    }
   ],
   "source": [
    "a.sort()\n",
    "a"
   ]
  },
  {
   "cell_type": "code",
   "execution_count": 17,
   "id": "ea7801fd-945f-4a5a-aa9f-20133c13ba43",
   "metadata": {},
   "outputs": [
    {
     "data": {
      "text/plain": [
       "array([[-2.25118954, -1.47498302, -0.1598142 ],\n",
       "       [-0.29874643,  0.66633647,  1.61758392],\n",
       "       [-0.67421939,  0.13460494,  0.29632832]])"
      ]
     },
     "execution_count": 17,
     "metadata": {},
     "output_type": "execute_result"
    }
   ],
   "source": [
    "#sorting along the axis\n",
    "a=rng.standard_normal(9).reshape(3,3)\n",
    "a.sort(axis=1)\n",
    "a"
   ]
  },
  {
   "cell_type": "code",
   "execution_count": 19,
   "id": "d3214b5c-f4c3-4efb-b7c1-5a13b6f9feb7",
   "metadata": {},
   "outputs": [
    {
     "data": {
      "text/plain": [
       "array([[-0.35854327, -1.09735347, -1.72644939],\n",
       "       [-0.08795977, -0.198248  ,  0.02508291],\n",
       "       [ 1.25660712, -0.12763851,  1.6476485 ]])"
      ]
     },
     "execution_count": 19,
     "metadata": {},
     "output_type": "execute_result"
    }
   ],
   "source": [
    "a=rng.standard_normal(9).reshape(3,3)\n",
    "a.sort(axis=0)\n",
    "a"
   ]
  },
  {
   "cell_type": "code",
   "execution_count": 21,
   "id": "122a189c-536e-470a-9a1c-831dc646f647",
   "metadata": {},
   "outputs": [
    {
     "data": {
      "text/plain": [
       "array([[ 0.32139433,  0.6847982 ,  1.69645168],\n",
       "       [-0.60056581, -0.35201582,  0.23259471],\n",
       "       [-0.27090402,  0.47049727,  0.63899878]])"
      ]
     },
     "execution_count": 21,
     "metadata": {},
     "output_type": "execute_result"
    }
   ],
   "source": [
    "a=rng.standard_normal(9).reshape(3,3)\n",
    "x=np.sort(a)\n",
    "x"
   ]
  },
  {
   "cell_type": "markdown",
   "id": "103320f9-0280-424e-8598-f405d937d2a5",
   "metadata": {},
   "source": [
    "UNIQUE VALUES"
   ]
  },
  {
   "cell_type": "code",
   "execution_count": 24,
   "id": "d403ec30-9176-47bf-81a4-9d3eace5e648",
   "metadata": {},
   "outputs": [
    {
     "data": {
      "text/plain": [
       "array([1, 2, 3, 4, 8, 9])"
      ]
     },
     "execution_count": 24,
     "metadata": {},
     "output_type": "execute_result"
    }
   ],
   "source": [
    "#numpy.unique(arr), which returns the sorted unique values in an array\n",
    "ints=np.array([8,2,3,4,8,9,1])\n",
    "np.unique(ints)"
   ]
  },
  {
   "cell_type": "code",
   "execution_count": 32,
   "id": "9aa0448e-1e0b-4ee1-b04e-32f74ce2ffcd",
   "metadata": {},
   "outputs": [
    {
     "data": {
      "text/plain": [
       "array([ True, False, False,  True,  True, False,  True])"
      ]
     },
     "execution_count": 32,
     "metadata": {},
     "output_type": "execute_result"
    }
   ],
   "source": [
    "val=np.array([6,0,0,3,2,5,6])\n",
    "np.in1d(val,[2,3,6])  \n",
    "#numpy.in1d(arr1,arr2), tests membership of the values in arr1 in arr2,\n",
    "#returning a Boolean array"
   ]
  },
  {
   "cell_type": "code",
   "execution_count": 34,
   "id": "c401d05e-eaf5-4d9f-8a43-d9a4b892c3ca",
   "metadata": {},
   "outputs": [
    {
     "data": {
      "text/plain": [
       "array([3])"
      ]
     },
     "execution_count": 34,
     "metadata": {},
     "output_type": "execute_result"
    }
   ],
   "source": [
    "x=np.array([1,2,3])\n",
    "y=np.array([3,4,5])\n",
    "np.intersect1d(x,y)"
   ]
  },
  {
   "cell_type": "code",
   "execution_count": 38,
   "id": "ea8eb0e5-4a49-4e8a-a7a5-86471a999ff1",
   "metadata": {},
   "outputs": [
    {
     "data": {
      "text/plain": [
       "array([1, 2, 3, 4, 5])"
      ]
     },
     "execution_count": 38,
     "metadata": {},
     "output_type": "execute_result"
    }
   ],
   "source": [
    "np.union1d(x,y)"
   ]
  },
  {
   "cell_type": "code",
   "execution_count": 40,
   "id": "88fbb558-219f-4543-9f9c-cf9c9e9c8de4",
   "metadata": {},
   "outputs": [
    {
     "data": {
      "text/plain": [
       "array([1, 2])"
      ]
     },
     "execution_count": 40,
     "metadata": {},
     "output_type": "execute_result"
    }
   ],
   "source": [
    "np.setdiff1d(x,y)"
   ]
  },
  {
   "cell_type": "code",
   "execution_count": 44,
   "id": "8151d4f4-03f3-40ea-bf41-45cf4e6367c8",
   "metadata": {},
   "outputs": [
    {
     "data": {
      "text/plain": [
       "array([1, 2, 4, 5])"
      ]
     },
     "execution_count": 44,
     "metadata": {},
     "output_type": "execute_result"
    }
   ],
   "source": [
    "np.setxor1d(x,y)"
   ]
  },
  {
   "cell_type": "markdown",
   "id": "11b4e1ad-6ce3-40a5-84c3-5fd0aeeff5e6",
   "metadata": {},
   "source": [
    "FILE HANDLING"
   ]
  },
  {
   "cell_type": "code",
   "execution_count": 51,
   "id": "9e299070-8a4a-42df-8b42-ecb1b1f93429",
   "metadata": {},
   "outputs": [],
   "source": [
    "#np.save(name of the file, contents)\n",
    "import numpy as np\n",
    "import random\n",
    "rng=np.random.default_rng()\n",
    "arr=rng.standard_normal(10)\n",
    "np.save(\"C:\\\\Users\\\\OM INFOTECH\\\\OneDrive\\\\Desktop\\\\Ayu Docs\",arr)"
   ]
  },
  {
   "cell_type": "code",
   "execution_count": 53,
   "id": "15361dd2-60b7-431d-a281-5ec55fb13f95",
   "metadata": {},
   "outputs": [
    {
     "ename": "PermissionError",
     "evalue": "[Errno 13] Permission denied: 'C:\\\\Users\\\\OM INFOTECH\\\\OneDrive\\\\Desktop\\\\Ayu Docs'",
     "output_type": "error",
     "traceback": [
      "\u001b[1;31m---------------------------------------------------------------------------\u001b[0m",
      "\u001b[1;31mPermissionError\u001b[0m                           Traceback (most recent call last)",
      "Cell \u001b[1;32mIn[53], line 2\u001b[0m\n\u001b[0;32m      1\u001b[0m \u001b[38;5;66;03m#np.load(name of the file)\u001b[39;00m\n\u001b[1;32m----> 2\u001b[0m np\u001b[38;5;241m.\u001b[39mload(\u001b[38;5;124m\"\u001b[39m\u001b[38;5;124mC:\u001b[39m\u001b[38;5;130;01m\\\\\u001b[39;00m\u001b[38;5;124mUsers\u001b[39m\u001b[38;5;130;01m\\\\\u001b[39;00m\u001b[38;5;124mOM INFOTECH\u001b[39m\u001b[38;5;130;01m\\\\\u001b[39;00m\u001b[38;5;124mOneDrive\u001b[39m\u001b[38;5;130;01m\\\\\u001b[39;00m\u001b[38;5;124mDesktop\u001b[39m\u001b[38;5;130;01m\\\\\u001b[39;00m\u001b[38;5;124mAyu Docs\u001b[39m\u001b[38;5;124m\"\u001b[39m)\n",
      "File \u001b[1;32m~\\anaconda3\\Lib\\site-packages\\numpy\\lib\\npyio.py:427\u001b[0m, in \u001b[0;36mload\u001b[1;34m(file, mmap_mode, allow_pickle, fix_imports, encoding, max_header_size)\u001b[0m\n\u001b[0;32m    425\u001b[0m     own_fid \u001b[38;5;241m=\u001b[39m \u001b[38;5;28;01mFalse\u001b[39;00m\n\u001b[0;32m    426\u001b[0m \u001b[38;5;28;01melse\u001b[39;00m:\n\u001b[1;32m--> 427\u001b[0m     fid \u001b[38;5;241m=\u001b[39m stack\u001b[38;5;241m.\u001b[39menter_context(\u001b[38;5;28mopen\u001b[39m(os_fspath(file), \u001b[38;5;124m\"\u001b[39m\u001b[38;5;124mrb\u001b[39m\u001b[38;5;124m\"\u001b[39m))\n\u001b[0;32m    428\u001b[0m     own_fid \u001b[38;5;241m=\u001b[39m \u001b[38;5;28;01mTrue\u001b[39;00m\n\u001b[0;32m    430\u001b[0m \u001b[38;5;66;03m# Code to distinguish from NumPy binary files and pickles.\u001b[39;00m\n",
      "\u001b[1;31mPermissionError\u001b[0m: [Errno 13] Permission denied: 'C:\\\\Users\\\\OM INFOTECH\\\\OneDrive\\\\Desktop\\\\Ayu Docs'"
     ]
    }
   ],
   "source": [
    "#np.load(name of the file)\n",
    "np.load(\"C:\\\\Users\\\\OM INFOTECH\\\\OneDrive\\\\Desktop\\\\Ayu Docs\")"
   ]
  },
  {
   "cell_type": "code",
   "execution_count": 55,
   "id": "c64928e0-5cca-4b73-b221-7a09c57ec172",
   "metadata": {},
   "outputs": [],
   "source": [
    "#refer pdf we left some topics... "
   ]
  },
  {
   "cell_type": "code",
   "execution_count": 66,
   "id": "9343a0b9-6e78-4290-8f0c-c4d9ace60b8f",
   "metadata": {},
   "outputs": [
    {
     "data": {
      "text/plain": [
       "11"
      ]
     },
     "execution_count": 66,
     "metadata": {},
     "output_type": "execute_result"
    }
   ],
   "source": [
    "# * -> is for element wise product\n",
    "x=np.array([1,2])\n",
    "y=np.array([3,4])\n",
    "x.dot(y)\n",
    "#  OR \n",
    "np.dot(x,y)"
   ]
  },
  {
   "cell_type": "code",
   "execution_count": 75,
   "id": "805b2dbb-08d0-4bf4-94b5-9cc2725f94db",
   "metadata": {},
   "outputs": [
    {
     "name": "stdout",
     "output_type": "stream",
     "text": [
      "[[-2.   1. ]\n",
      " [ 1.5 -0.5]]\n"
     ]
    }
   ],
   "source": [
    "#LINEAR ALGEBRA FUNCTIONS\n",
    "#inverse\n",
    "import numpy as np\n",
    "a=np.array([[1,2],[3,4]])\n",
    "a_inv=np.linalg.inv(a)\n",
    "print(a_inv)"
   ]
  },
  {
   "cell_type": "code",
   "execution_count": 79,
   "id": "73f5c072-e8ce-400f-90b1-2b913324e913",
   "metadata": {},
   "outputs": [
    {
     "name": "stdout",
     "output_type": "stream",
     "text": [
      "-2.0000000000000004\n"
     ]
    }
   ],
   "source": [
    "import numpy as np\n",
    "b=np.array([[1,2],[3,4]])\n",
    "a_det=np.linalg.det(b)\n",
    "print(a_det)"
   ]
  },
  {
   "cell_type": "code",
   "execution_count": 82,
   "id": "4b21dfff-ef05-416c-9bcd-e39ce2d00497",
   "metadata": {},
   "outputs": [
    {
     "name": "stdout",
     "output_type": "stream",
     "text": [
      "[ 2.8 -0.6]\n"
     ]
    }
   ],
   "source": [
    "#solving linear equations\n",
    "import numpy as np\n",
    "a=np.array([[2,1],[3,4]])\n",
    "b=np.array([5,6])\n",
    "x=np.linalg.solve(a,b)\n",
    "print(x)"
   ]
  },
  {
   "cell_type": "markdown",
   "id": "3d944496-5f0c-48ba-ac1f-1bef30a35613",
   "metadata": {},
   "source": [
    "RANDOM WALK USING NUMPY"
   ]
  },
  {
   "cell_type": "code",
   "execution_count": null,
   "id": "b13eb6b4-184d-403a-b2c5-e3687008f91c",
   "metadata": {},
   "outputs": [],
   "source": [
    "DO IT LATERR--------------------------------"
   ]
  }
 ],
 "metadata": {
  "kernelspec": {
   "display_name": "Python 3 (ipykernel)",
   "language": "python",
   "name": "python3"
  },
  "language_info": {
   "codemirror_mode": {
    "name": "ipython",
    "version": 3
   },
   "file_extension": ".py",
   "mimetype": "text/x-python",
   "name": "python",
   "nbconvert_exporter": "python",
   "pygments_lexer": "ipython3",
   "version": "3.12.4"
  }
 },
 "nbformat": 4,
 "nbformat_minor": 5
}
