{
 "cells": [
  {
   "cell_type": "markdown",
   "id": "1a64ae2f-8607-43c2-9a59-69f6158890d9",
   "metadata": {},
   "source": [
    "## class and object\n"
   ]
  },
  {
   "cell_type": "code",
   "execution_count": 1,
   "id": "7f54a6fe-4a7f-4d59-a55a-70dede4ad2b3",
   "metadata": {},
   "outputs": [],
   "source": [
    "# due to functions -> redundancy decreases and reusability increases"
   ]
  },
  {
   "cell_type": "code",
   "execution_count": null,
   "id": "1c21be61-d2a4-40f1-b440-6f5529d28609",
   "metadata": {},
   "outputs": [],
   "source": [
    "# class is a blueprint for creating objects"
   ]
  },
  {
   "cell_type": "code",
   "execution_count": 17,
   "id": "1f7431b7-7cd7-4ae8-a39f-864913873c8b",
   "metadata": {},
   "outputs": [
    {
     "name": "stdout",
     "output_type": "stream",
     "text": [
      "ayushi\n",
      "ayushi\n"
     ]
    }
   ],
   "source": [
    "#creting class\n",
    "class student:\n",
    "    name=\"ayushi\"\n",
    "\n",
    "#creating object (instance)\n",
    "s1=student()\n",
    "print(s1.name)\n",
    "\n",
    "s2=student()\n",
    "print(s2.name)\n"
   ]
  },
  {
   "cell_type": "code",
   "execution_count": 21,
   "id": "15c1858f-f20f-45ff-ab7c-3053a0b9f908",
   "metadata": {},
   "outputs": [
    {
     "name": "stdout",
     "output_type": "stream",
     "text": [
      "blue\n",
      "BMW\n",
      "x7\n"
     ]
    }
   ],
   "source": [
    "class car:\n",
    "    color='blue'\n",
    "    model='x7'\n",
    "    brand='BMW'\n",
    "car1=car()\n",
    "print(car1.color)\n",
    "print(car1.brand)\n",
    "print(car1.model)\n"
   ]
  },
  {
   "cell_type": "markdown",
   "id": "aded4b9c-4ce1-4bfc-97be-a044a9c410b8",
   "metadata": {},
   "source": [
    "## constructor"
   ]
  },
  {
   "cell_type": "code",
   "execution_count": 24,
   "id": "ccac519a-dcb4-4a03-93dd-4e17e2acc25f",
   "metadata": {},
   "outputs": [],
   "source": [
    "#all class have a func called __init__() ,\n",
    "#which is always executed when the object is being initiated"
   ]
  },
  {
   "cell_type": "code",
   "execution_count": 28,
   "id": "5a1b6c77-7ec1-4e70-8e76-1bba09486309",
   "metadata": {},
   "outputs": [
    {
     "name": "stdout",
     "output_type": "stream",
     "text": [
      "adding new student in database..\n",
      "ayushi\n",
      "adding new student in database..\n",
      "ayushi\n"
     ]
    }
   ],
   "source": [
    "class student:\n",
    "    def __init__(self):  #here self is 's1' obj that is created\n",
    "        print(\"adding new student in database..\")\n",
    "          \n",
    "    name=\"ayushi\"\n",
    "\n",
    "s1=student()\n",
    "print(s1.name)\n",
    "\n",
    "s2=student()\n",
    "print(s2.name)"
   ]
  },
  {
   "cell_type": "code",
   "execution_count": 38,
   "id": "b9624e5c-a9cb-49fb-bc8e-b999629f08cd",
   "metadata": {},
   "outputs": [
    {
     "name": "stdout",
     "output_type": "stream",
     "text": [
      "Aditya\n",
      "Siya\n"
     ]
    }
   ],
   "source": [
    "#self -> it is used to access variables inside class\n",
    "# you can write any word other than self like'abcd' ,as it is not fixed keyword\n",
    "class student:\n",
    "    def __init__(self,fullname): \n",
    "        self.name=fullname\n",
    "    \n",
    "s1=student('Aditya')\n",
    "print(s1.name)\n",
    "\n",
    "s2=student('Siya')\n",
    "print(s2.name)"
   ]
  },
  {
   "cell_type": "code",
   "execution_count": 40,
   "id": "e3b50b0e-26b8-430f-8ede-1ca9d215feea",
   "metadata": {},
   "outputs": [],
   "source": [
    "#ATTRIBUTES -> data sored inside class and object"
   ]
  },
  {
   "cell_type": "code",
   "execution_count": 45,
   "id": "75b4cd72-029a-41d0-b337-3fc6d8bf6ef0",
   "metadata": {},
   "outputs": [
    {
     "name": "stdout",
     "output_type": "stream",
     "text": [
      "Aditya\n",
      "91\n"
     ]
    }
   ],
   "source": [
    "class student:\n",
    "\n",
    "    def __init__(self,name,marks):  #default constructors\n",
    "        pass\n",
    "        \n",
    "    def __init__(self,name,marks): #parametrized constructors\n",
    "        self.name=name\n",
    "        self.marks=marks\n",
    "        \n",
    "s1=student('Aditya',91)\n",
    "print(s1.name)\n",
    "print(s1.marks)\n"
   ]
  },
  {
   "cell_type": "markdown",
   "id": "34a698ba-5de0-4ec3-b7ef-332396db88ac",
   "metadata": {},
   "source": [
    "## attributes"
   ]
  },
  {
   "cell_type": "code",
   "execution_count": 54,
   "id": "75dd7b26-2d7e-4d9a-b221-79776aa37090",
   "metadata": {},
   "outputs": [
    {
     "name": "stdout",
     "output_type": "stream",
     "text": [
      "Aditya\n",
      "91\n",
      "SOA\n",
      "Siya\n",
      "SOA\n"
     ]
    }
   ],
   "source": [
    "class student:\n",
    "\n",
    "    clgname=\"SOA\"\n",
    "    \n",
    "    def __init__(self,name,marks): \n",
    "        self.name=name\n",
    "        self.marks=marks\n",
    "        \n",
    "s1=student('Aditya',91)\n",
    "print(s1.name)\n",
    "print(s1.marks)\n",
    "print(s1.clgname)\n",
    "\n",
    "s2=student('Siya',90)\n",
    "print(s2.name)\n",
    "print(s2.clgname)\n",
    "\n",
    "#here clgname is same for all students \n",
    "#'clgname' is stored once in memory ->SAVES SPACE"
   ]
  },
  {
   "cell_type": "code",
   "execution_count": 58,
   "id": "af318331-06cf-4b0b-89d5-8cd737505763",
   "metadata": {},
   "outputs": [
    {
     "name": "stdout",
     "output_type": "stream",
     "text": [
      "Aditya\n",
      "91\n",
      "SOA\n"
     ]
    }
   ],
   "source": [
    "class student:\n",
    "\n",
    "    clgname=\"SOA\"\n",
    "    name='Anonymous'  #class attribute\n",
    "    \n",
    "    def __init__(self,name,marks): \n",
    "        self.name=name #object attribute\n",
    "        self.marks=marks\n",
    "        \n",
    "s1=student('Aditya',91)\n",
    "print(s1.name)\n",
    "print(s1.marks)\n",
    "print(s1.clgname)\n",
    "\n",
    "# when we have same name for class & object attribute \n",
    "# precedence object > class\n"
   ]
  },
  {
   "cell_type": "markdown",
   "id": "286d2a2f-ccdd-431d-955e-fffd452aacb5",
   "metadata": {},
   "source": [
    "## methods"
   ]
  },
  {
   "cell_type": "code",
   "execution_count": 61,
   "id": "0af4ea0f-1090-45f9-90e0-7b85b8d935fe",
   "metadata": {},
   "outputs": [],
   "source": [
    "# methods are functions that belongs to objects"
   ]
  },
  {
   "cell_type": "code",
   "execution_count": 63,
   "id": "fc07d3a7-2912-462c-81a2-a19b3b462d52",
   "metadata": {},
   "outputs": [],
   "source": [
    "#class is a collection of data(attributes) and methods"
   ]
  },
  {
   "cell_type": "code",
   "execution_count": 65,
   "id": "6d261464-aa53-48fb-bfac-63dd27cf7c37",
   "metadata": {},
   "outputs": [],
   "source": [
    "# till now we have studied methods of string,list,dictionary"
   ]
  },
  {
   "cell_type": "code",
   "execution_count": 67,
   "id": "5da1147d-cf90-4b35-a675-339d93ea50cd",
   "metadata": {},
   "outputs": [
    {
     "name": "stdout",
     "output_type": "stream",
     "text": [
      "hello ayushi\n"
     ]
    }
   ],
   "source": [
    "class student:\n",
    "    def __init__(self,name):\n",
    "        self.name=name\n",
    "        \n",
    "    def hello(self):\n",
    "        print('hello',self.name)\n",
    "\n",
    "s1=student('ayushi')\n",
    "s1.hello()"
   ]
  },
  {
   "cell_type": "code",
   "execution_count": 77,
   "id": "b4902cd6-d278-44c3-a4ea-675024c00143",
   "metadata": {},
   "outputs": [
    {
     "name": "stdout",
     "output_type": "stream",
     "text": [
      "hello ayushi\n",
      "91\n"
     ]
    }
   ],
   "source": [
    "class student:\n",
    "    def __init__(self,name,marks):\n",
    "        self.name=name\n",
    "        self.marks=marks\n",
    "        \n",
    "    def hello(self):\n",
    "        print('hello',self.name)\n",
    "\n",
    "    def getmarks(self):\n",
    "        return self.marks\n",
    "\n",
    "s1=student('ayushi',91)\n",
    "s1.hello()\n",
    "print(s1.getmarks())\n"
   ]
  },
  {
   "cell_type": "code",
   "execution_count": 79,
   "id": "16250f9e-11c2-4f01-b579-7f1763ef8bcf",
   "metadata": {},
   "outputs": [],
   "source": [
    "# Q) create student class that takes name and marks of 3 subjects as arg in constructor.\n",
    "# then create a method to print average"
   ]
  },
  {
   "cell_type": "code",
   "execution_count": 87,
   "id": "0859dfed-9d1b-424f-ac25-7d5c33438931",
   "metadata": {},
   "outputs": [
    {
     "name": "stdout",
     "output_type": "stream",
     "text": [
      "ayushi  your avg is : 92.0\n"
     ]
    }
   ],
   "source": [
    "class student:\n",
    "    def __init__(self,name,marks):\n",
    "        self.name=name\n",
    "        self.marks=marks\n",
    "\n",
    "    def average(self):\n",
    "        sum=0\n",
    "        for val in self.marks:\n",
    "            sum+=val\n",
    "        print(self.name,' your avg is :',sum/3)\n",
    "\n",
    "\n",
    "s1=student('ayushi',[91,89,96])\n",
    "s2=student('yushi',[98,78,88])\n",
    "s3=student('sushi',[80,67,90])\n",
    "\n",
    "s1.average()\n"
   ]
  },
  {
   "cell_type": "markdown",
   "id": "0862a8dd-9df8-4706-8218-942ce57597fd",
   "metadata": {},
   "source": [
    "## static methods"
   ]
  },
  {
   "cell_type": "code",
   "execution_count": 2,
   "id": "bcd49c67-d1df-4935-b6d3-053c11e163a4",
   "metadata": {},
   "outputs": [],
   "source": [
    "# methods in the class level are called static methods"
   ]
  },
  {
   "cell_type": "code",
   "execution_count": 34,
   "id": "3f2a5239-5ae2-4129-b30f-c0ff71f0adda",
   "metadata": {},
   "outputs": [
    {
     "name": "stdout",
     "output_type": "stream",
     "text": [
      "ayushi  your avg is : 92.0\n"
     ]
    },
    {
     "ename": "TypeError",
     "evalue": "student.hello() takes 0 positional arguments but 1 was given",
     "output_type": "error",
     "traceback": [
      "\u001b[1;31m---------------------------------------------------------------------------\u001b[0m",
      "\u001b[1;31mTypeError\u001b[0m                                 Traceback (most recent call last)",
      "Cell \u001b[1;32mIn[34], line 22\u001b[0m\n\u001b[0;32m     19\u001b[0m s3\u001b[38;5;241m=\u001b[39mstudent(\u001b[38;5;124m'\u001b[39m\u001b[38;5;124msushi\u001b[39m\u001b[38;5;124m'\u001b[39m,[\u001b[38;5;241m80\u001b[39m,\u001b[38;5;241m67\u001b[39m,\u001b[38;5;241m90\u001b[39m])\n\u001b[0;32m     21\u001b[0m s1\u001b[38;5;241m.\u001b[39maverage()\n\u001b[1;32m---> 22\u001b[0m s1\u001b[38;5;241m.\u001b[39mhello()\n",
      "\u001b[1;31mTypeError\u001b[0m: student.hello() takes 0 positional arguments but 1 was given"
     ]
    }
   ],
   "source": [
    "# WHY STATIC IS USED?\n",
    "class student:\n",
    "    def __init__(self,name,marks):\n",
    "        self.name=name\n",
    "        self.marks=marks\n",
    "\n",
    "    def average(self):\n",
    "        sum=0\n",
    "        for val in self.marks:\n",
    "            sum+=val\n",
    "        print(self.name,' your avg is :',sum/3)\n",
    "\n",
    "    def hello(): # as no self is used -> error occurs\n",
    "        print('hello')\n",
    "\n",
    "\n",
    "s1=student('ayushi',[91,89,96])\n",
    "s2=student('yushi',[98,78,88])\n",
    "s3=student('sushi',[80,67,90])\n",
    "\n",
    "s1.average()\n",
    "s1.hello()"
   ]
  },
  {
   "cell_type": "code",
   "execution_count": 8,
   "id": "2e7c5010-6437-482f-b36b-8e1c97c2edd5",
   "metadata": {},
   "outputs": [
    {
     "name": "stdout",
     "output_type": "stream",
     "text": [
      "ayushi  your avg is : 92.0\n",
      "hello\n"
     ]
    }
   ],
   "source": [
    "class student:\n",
    "    def __init__(self,name,marks):\n",
    "        self.name=name\n",
    "        self.marks=marks\n",
    "\n",
    "    def average(self):\n",
    "        sum=0\n",
    "        for val in self.marks:\n",
    "            sum+=val\n",
    "        print(self.name,' your avg is :',sum/3)\n",
    "        \n",
    "    @staticmethod #decorator\n",
    "    def hello(): \n",
    "        print('hello')\n",
    "\n",
    "\n",
    "s1=student('ayushi',[91,89,96])\n",
    "s2=student('yushi',[98,78,88])\n",
    "s3=student('sushi',[80,67,90])\n",
    "\n",
    "s1.average()\n",
    "s1.hello()"
   ]
  },
  {
   "cell_type": "code",
   "execution_count": 10,
   "id": "7673dd96-e3f4-4720-a91f-24353b959f28",
   "metadata": {},
   "outputs": [],
   "source": [
    "# decorator changes the behaviour of the function and gives it back"
   ]
  },
  {
   "cell_type": "code",
   "execution_count": 12,
   "id": "7eff09c6-d52f-47e5-b59d-b985e77a198a",
   "metadata": {},
   "outputs": [],
   "source": [
    "# ABSTRACTION -> hiding the implementation details of the class\n",
    "# and showing the essential features to the user"
   ]
  },
  {
   "cell_type": "code",
   "execution_count": 18,
   "id": "347fe40d-9394-4163-b86d-bd35bf0f3b16",
   "metadata": {},
   "outputs": [
    {
     "name": "stdout",
     "output_type": "stream",
     "text": [
      "car started..\n"
     ]
    }
   ],
   "source": [
    "class car:\n",
    "    def __inint__(self): #constructor\n",
    "        self.acc=False\n",
    "        self.brk=False\n",
    "        self.clutch=False\n",
    "    \n",
    "    def start(self):\n",
    "        self.clutch=True\n",
    "        self.acc=True\n",
    "        print(\"car started..\")\n",
    "        \n",
    "car1=car()\n",
    "car1.start()  \n",
    "        \n",
    "        "
   ]
  },
  {
   "cell_type": "code",
   "execution_count": 20,
   "id": "71c65b2f-7aaf-4a46-bf7e-6cac0dc05386",
   "metadata": {},
   "outputs": [],
   "source": [
    "#ENCAPSULATION -> wrapping data and functions into a single unit(object)\n"
   ]
  },
  {
   "cell_type": "code",
   "execution_count": null,
   "id": "b5606afa-c965-46d8-9c6c-d282eb4e29b7",
   "metadata": {},
   "outputs": [],
   "source": [
    "# create account class with 2 attributes - balance & acc no\n",
    "# create methods for debit , credit and printing the balance"
   ]
  },
  {
   "cell_type": "code",
   "execution_count": 32,
   "id": "b4871f87-6ae7-48af-86c0-684b8bcfdbef",
   "metadata": {},
   "outputs": [
    {
     "name": "stdout",
     "output_type": "stream",
     "text": [
      "12000 1234\n",
      "Rs. 20 is debit from acc 1234\n",
      "Rs. 40 is credited to acc 1234\n",
      "balance: 12020\n"
     ]
    }
   ],
   "source": [
    "class account:\n",
    "    def __init__(self,bal,ano):\n",
    "        self.bal=bal\n",
    "        self.ano=ano\n",
    "\n",
    "    def debit(self,amount):\n",
    "        self.bal-=amount\n",
    "        print(f'Rs. {amount} is debit from acc {self.ano}')\n",
    "        \n",
    "        \n",
    "    def credit(self,amount):\n",
    "        self.bal+=amount\n",
    "        print(f'Rs. {amount} is credited to acc {self.ano}')\n",
    "\n",
    "    def printbal(self):\n",
    "        print('balance:',self.bal)\n",
    "        \n",
    "        \n",
    "acc1=account(12000,1234)  \n",
    "print(acc1.bal, acc1.ano)\n",
    "\n",
    "acc1.debit(20)\n",
    "acc1.credit(40)\n",
    "acc1.printbal()\n",
    "  "
   ]
  },
  {
   "cell_type": "markdown",
   "id": "1dcca9f0-0ab2-44db-866e-1df29c648519",
   "metadata": {},
   "source": [
    "## del keyword"
   ]
  },
  {
   "cell_type": "code",
   "execution_count": 41,
   "id": "d465c10e-0192-4865-940f-47faa9acb70b",
   "metadata": {},
   "outputs": [
    {
     "name": "stdout",
     "output_type": "stream",
     "text": [
      "ayushi  your avg is : 92.0\n"
     ]
    },
    {
     "ename": "AttributeError",
     "evalue": "'student' object has no attribute 'name'",
     "output_type": "error",
     "traceback": [
      "\u001b[1;31m---------------------------------------------------------------------------\u001b[0m",
      "\u001b[1;31mAttributeError\u001b[0m                            Traceback (most recent call last)",
      "Cell \u001b[1;32mIn[41], line 19\u001b[0m\n\u001b[0;32m     17\u001b[0m s1\u001b[38;5;241m.\u001b[39maverage()\n\u001b[0;32m     18\u001b[0m \u001b[38;5;28;01mdel\u001b[39;00m s1\u001b[38;5;241m.\u001b[39mname \u001b[38;5;66;03m# delete attribute\u001b[39;00m\n\u001b[1;32m---> 19\u001b[0m \u001b[38;5;28mprint\u001b[39m( s1\u001b[38;5;241m.\u001b[39mname)\n\u001b[0;32m     20\u001b[0m \u001b[38;5;28;01mdel\u001b[39;00m s1 \u001b[38;5;66;03m# delete object\u001b[39;00m\n\u001b[0;32m     21\u001b[0m \u001b[38;5;28mprint\u001b[39m(s1)\n",
      "\u001b[1;31mAttributeError\u001b[0m: 'student' object has no attribute 'name'"
     ]
    }
   ],
   "source": [
    "class student:\n",
    "    def __init__(self,name,marks):\n",
    "        self.name=name\n",
    "        self.marks=marks\n",
    "\n",
    "    def average(self):\n",
    "        sum=0\n",
    "        for val in self.marks:\n",
    "            sum+=val\n",
    "        print(self.name,' your avg is :',sum/3)\n",
    "\n",
    "\n",
    "s1=student('ayushi',[91,89,96])\n",
    "s2=student('yushi',[98,78,88])\n",
    "s3=student('sushi',[80,67,90])\n",
    "\n",
    "s1.average()\n",
    "del s1.name # delete attribute\n",
    "print( s1.name)\n",
    "del s1 # delete object\n",
    "print(s1)"
   ]
  },
  {
   "cell_type": "code",
   "execution_count": 43,
   "id": "d7d33993-a10e-4829-b791-67d0a5df4bc3",
   "metadata": {},
   "outputs": [],
   "source": [
    "# PRIVATE -> attributes and methods\n",
    "# add two underscore -> before -> to make it private"
   ]
  },
  {
   "cell_type": "code",
   "execution_count": 49,
   "id": "7e32cfa7-399d-4aeb-a4e1-e7b1f5d82269",
   "metadata": {},
   "outputs": [
    {
     "name": "stdout",
     "output_type": "stream",
     "text": [
      "1234\n"
     ]
    },
    {
     "ename": "AttributeError",
     "evalue": "'account' object has no attribute 'pas'",
     "output_type": "error",
     "traceback": [
      "\u001b[1;31m---------------------------------------------------------------------------\u001b[0m",
      "\u001b[1;31mAttributeError\u001b[0m                            Traceback (most recent call last)",
      "Cell \u001b[1;32mIn[49], line 7\u001b[0m\n\u001b[0;32m      5\u001b[0m acc1\u001b[38;5;241m=\u001b[39maccount(\u001b[38;5;241m1234\u001b[39m,\u001b[38;5;124m'\u001b[39m\u001b[38;5;124mabcd\u001b[39m\u001b[38;5;124m'\u001b[39m)\n\u001b[0;32m      6\u001b[0m \u001b[38;5;28mprint\u001b[39m(acc1\u001b[38;5;241m.\u001b[39maccno)\n\u001b[1;32m----> 7\u001b[0m \u001b[38;5;28mprint\u001b[39m(acc1\u001b[38;5;241m.\u001b[39mpas)\n",
      "\u001b[1;31mAttributeError\u001b[0m: 'account' object has no attribute 'pas'"
     ]
    }
   ],
   "source": [
    "class account:\n",
    "    def __init__(self,accno,pas):\n",
    "        self.accno=accno\n",
    "        self.__pas=pas #private\n",
    "acc1=account(1234,'abcd')\n",
    "print(acc1.accno)\n",
    "print(acc1.pas)\n",
    "\n",
    "# as it is PRIVATE .. it can't be accessed OUTSIDE class"
   ]
  },
  {
   "cell_type": "code",
   "execution_count": 61,
   "id": "d4f5a53b-9e8b-49fa-84b6-9c1405898d89",
   "metadata": {},
   "outputs": [
    {
     "name": "stdout",
     "output_type": "stream",
     "text": [
      "abcd\n"
     ]
    }
   ],
   "source": [
    "class account:\n",
    "    def __init__(self,accno,pas):\n",
    "        self.accno=accno\n",
    "        self.__pas=pas #private\n",
    "    def resetpass(self):\n",
    "        print(self.__pas) #can access it inside the class\n",
    "        \n",
    "acc1=account(1234,'abcd')\n",
    "acc1.resetpass()\n"
   ]
  },
  {
   "cell_type": "code",
   "execution_count": 77,
   "id": "9d0d1fde-d898-41ac-8ef7-d78be903c2d6",
   "metadata": {},
   "outputs": [
    {
     "name": "stdout",
     "output_type": "stream",
     "text": [
      "hello person\n",
      "None\n"
     ]
    }
   ],
   "source": [
    "class person:\n",
    "    __name='ananymous'\n",
    "    \n",
    "    def __hello(self):\n",
    "        print('hello person')\n",
    "\n",
    "    def welcome(self):\n",
    "        self.__hello() # to access any member of class -> you use 'self'\n",
    "                \n",
    "p1=person()\n",
    "print(p1.welcome())"
   ]
  },
  {
   "cell_type": "code",
   "execution_count": null,
   "id": "99b83c39-86cb-4e9e-89c0-7019f353b9a4",
   "metadata": {},
   "outputs": [],
   "source": []
  }
 ],
 "metadata": {
  "kernelspec": {
   "display_name": "Python 3 (ipykernel)",
   "language": "python",
   "name": "python3"
  },
  "language_info": {
   "codemirror_mode": {
    "name": "ipython",
    "version": 3
   },
   "file_extension": ".py",
   "mimetype": "text/x-python",
   "name": "python",
   "nbconvert_exporter": "python",
   "pygments_lexer": "ipython3",
   "version": "3.12.4"
  }
 },
 "nbformat": 4,
 "nbformat_minor": 5
}
