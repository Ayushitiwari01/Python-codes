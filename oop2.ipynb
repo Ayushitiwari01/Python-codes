{
 "cells": [
  {
   "cell_type": "code",
   "execution_count": 1,
   "id": "d816888e-0cbf-4faf-9cde-96e0ddb08deb",
   "metadata": {},
   "outputs": [],
   "source": [
    "# Inheritance -> when one class(child) derives the properties and methods \n",
    "# of another class (parent)"
   ]
  },
  {
   "cell_type": "code",
   "execution_count": null,
   "id": "bb247726-95fb-4f25-a80b-9b21ffe6d17d",
   "metadata": {},
   "outputs": [],
   "source": [
    "class car: #parent\n",
    "    class toyotaCar(car): #child"
   ]
  },
  {
   "cell_type": "code",
   "execution_count": 9,
   "id": "f77c16e2-8c5c-40ec-a287-a332d56838d0",
   "metadata": {},
   "outputs": [
    {
     "name": "stdout",
     "output_type": "stream",
     "text": [
      "fortuner\n",
      "car started..\n",
      "None\n"
     ]
    }
   ],
   "source": [
    "class car:\n",
    "    @staticmethod\n",
    "    def start():\n",
    "        print('car started..')\n",
    "    @staticmethod\n",
    "    def stop():\n",
    "        print('car stopped..')\n",
    "\n",
    "class toyotaCar(car):\n",
    "    def __init__(self,name):\n",
    "        self.name=name\n",
    "\n",
    "car1=toyotaCar('fortuner')\n",
    "car2=toyotaCar('prius')\n",
    "\n",
    "print(car1.name)\n",
    "print(car1.start())\n",
    "      "
   ]
  },
  {
   "cell_type": "code",
   "execution_count": 11,
   "id": "c3454b07-9b16-4b9e-97c7-d5075969b7d3",
   "metadata": {},
   "outputs": [],
   "source": [
    "# TYPES\n",
    "# single  - multi-level - multiple inheritance"
   ]
  },
  {
   "cell_type": "code",
   "execution_count": 13,
   "id": "9a7aacb9-a616-44bd-84b4-204a8c5f53ec",
   "metadata": {},
   "outputs": [
    {
     "name": "stdout",
     "output_type": "stream",
     "text": [
      "car started..\n",
      "None\n"
     ]
    }
   ],
   "source": [
    "#single level\n",
    "class car:\n",
    "    @staticmethod\n",
    "    def start():\n",
    "        print('car started..')\n",
    "    @staticmethod\n",
    "    def stop():\n",
    "        print('car stopped..')\n",
    "\n",
    "class toyotaCar(car):\n",
    "    def __init__(self,brand):\n",
    "        self.brand=brand\n",
    "\n",
    "class fortuner(toyotaCar):\n",
    "    def __init__(self,type):\n",
    "        self.type=type\n",
    "        \n",
    "car1= fortuner('diesel')\n",
    "print(car1.start())\n",
    "    \n",
    "      "
   ]
  },
  {
   "cell_type": "code",
   "execution_count": 17,
   "id": "39deb2ca-832c-4994-9719-d71354cbf03e",
   "metadata": {},
   "outputs": [
    {
     "name": "stdout",
     "output_type": "stream",
     "text": [
      "welcome to class A\n",
      "welcome to class B\n",
      "welcome to class C\n"
     ]
    }
   ],
   "source": [
    "#multi level  ex- 2 parents 1 child\n",
    "class A:\n",
    "    varA='welcome to class A'\n",
    "\n",
    "class B:\n",
    "    varB='welcome to class B'\n",
    "\n",
    "class C(A,B):\n",
    "    varC='welcome to class C'\n",
    "\n",
    "c1=C()\n",
    "print(c1.varA)\n",
    "print(c1.varB)\n",
    "print(c1.varC)"
   ]
  },
  {
   "cell_type": "code",
   "execution_count": 19,
   "id": "dff43bc8-8b08-4aab-bb8e-4b42e81be6c7",
   "metadata": {},
   "outputs": [],
   "source": [
    "# super method -> it is used to access methods of parent class"
   ]
  },
  {
   "cell_type": "code",
   "execution_count": 25,
   "id": "63b753d1-17fe-45ea-a076-4e67ae558218",
   "metadata": {},
   "outputs": [
    {
     "name": "stdout",
     "output_type": "stream",
     "text": [
      "car started..\n",
      "electric\n"
     ]
    }
   ],
   "source": [
    "class car:\n",
    "    def __init__(self,type):\n",
    "        self.type=type\n",
    "        \n",
    "    @staticmethod\n",
    "    def start():\n",
    "        print('car started..')\n",
    "        \n",
    "    @staticmethod\n",
    "    def stop():\n",
    "        print('car stopped..')\n",
    "\n",
    "class toyotaCar(car):\n",
    "    def __init__(self,brand,type):\n",
    "        self.brand=brand\n",
    "        super().__init__(type)\n",
    "        super().start()\n",
    "        \n",
    "car1= toyotaCar('prius','electric')\n",
    "print(car1.type)\n",
    "\n"
   ]
  },
  {
   "cell_type": "code",
   "execution_count": 27,
   "id": "f45ce26c-1015-4441-85d5-07a770d5d5d8",
   "metadata": {},
   "outputs": [],
   "source": [
    "# class method -> a class method is bound to the class\n",
    "# & receives the class as an implicit first argument"
   ]
  },
  {
   "cell_type": "code",
   "execution_count": 31,
   "id": "5cad8343-9f4b-4de3-92cb-abb9aedf822c",
   "metadata": {},
   "outputs": [
    {
     "name": "stdout",
     "output_type": "stream",
     "text": [
      "ayushi\n",
      "anonymous\n"
     ]
    }
   ],
   "source": [
    "class person:\n",
    "    name='anonymous'\n",
    "\n",
    "    def changename(self,name):\n",
    "        self.name=name\n",
    "p1=person()\n",
    "p1.changename('ayushi')\n",
    "print(p1.name)\n",
    "print(person.name)"
   ]
  },
  {
   "cell_type": "code",
   "execution_count": 33,
   "id": "b1a1be29-a639-49df-a45c-81f3166f3924",
   "metadata": {},
   "outputs": [
    {
     "name": "stdout",
     "output_type": "stream",
     "text": [
      "ayushi\n",
      "ayushi\n"
     ]
    }
   ],
   "source": [
    "# we have to change the class attribute\n",
    "class person:\n",
    "    name='anonymous'\n",
    "\n",
    "    def changename(self,name):\n",
    "        person.name=name # here\n",
    "p1=person()\n",
    "p1.changename('ayushi')\n",
    "print(p1.name)\n",
    "print(person.name)"
   ]
  },
  {
   "cell_type": "code",
   "execution_count": 35,
   "id": "57a150da-3a31-4582-9ce1-7490d1a72532",
   "metadata": {},
   "outputs": [
    {
     "name": "stdout",
     "output_type": "stream",
     "text": [
      "ayushi\n",
      "ayushi\n"
     ]
    }
   ],
   "source": [
    "class person:\n",
    "    name='anonymous'\n",
    "\n",
    "    def changename(self,name):\n",
    "        self.__class__.name='ayushi' # here\n",
    "p1=person()\n",
    "p1.changename('ayushi')\n",
    "print(p1.name)\n",
    "print(person.name)"
   ]
  },
  {
   "cell_type": "code",
   "execution_count": 37,
   "id": "378a8709-ba63-47c7-bc04-d7decee7c3e5",
   "metadata": {},
   "outputs": [
    {
     "name": "stdout",
     "output_type": "stream",
     "text": [
      "ayushi\n",
      "ayushi\n"
     ]
    }
   ],
   "source": [
    "class person:\n",
    "    name='anonymous'\n",
    "    @classmethod\n",
    "    def changename(cls,name):\n",
    "        cls.name=name # here\n",
    "p1=person()\n",
    "p1.changename('ayushi')\n",
    "print(p1.name)\n",
    "print(person.name)"
   ]
  },
  {
   "cell_type": "code",
   "execution_count": 39,
   "id": "8bf4dfda-31cc-440b-a998-dadd211f9f53",
   "metadata": {},
   "outputs": [],
   "source": [
    "# so concluding this we know\n",
    "# we have three methods:\n",
    "# static , class(cls) , instance(self) methods\n"
   ]
  },
  {
   "cell_type": "code",
   "execution_count": 41,
   "id": "d479dd01-71f0-4175-90b0-d365ed828540",
   "metadata": {},
   "outputs": [],
   "source": [
    "# @property decorator -> we use it on any method in class\n",
    "# to use the method as a property  "
   ]
  },
  {
   "cell_type": "code",
   "execution_count": 51,
   "id": "dcb7ee26-7520-494f-955f-33b248e3fffb",
   "metadata": {},
   "outputs": [
    {
     "name": "stdout",
     "output_type": "stream",
     "text": [
      "97.33333333333333%\n",
      "89\n",
      "97.33333333333333%\n"
     ]
    }
   ],
   "source": [
    "class students:\n",
    "    def __init__(self,phy,chem,math):\n",
    "        self.chem=chem\n",
    "        self.phy=phy\n",
    "        self.math=math\n",
    "        self.percentage=str((self.phy+self.chem+self.math)/3)+ \"%\"\n",
    "\n",
    "stud1=students(98,95,99)\n",
    "print(stud1.percentage)\n",
    "\n",
    "# we took the marks of physics wrong -> CHANGE\n",
    "stud1.phy=89\n",
    "print(stud1.phy)\n",
    "print(stud1.percentage) # but percentage does not changes -> it is intact\n",
    "       "
   ]
  },
  {
   "cell_type": "code",
   "execution_count": 55,
   "id": "b97b7cf9-52e8-451e-a6af-2c2ea0fe5027",
   "metadata": {},
   "outputs": [
    {
     "name": "stdout",
     "output_type": "stream",
     "text": [
      "97.33333333333333%\n",
      "89\n",
      "94.33333333333333%\n"
     ]
    }
   ],
   "source": [
    "# when the value of attribute depends on the function\n",
    "# -> so we make func to 'property'\n",
    "class students:\n",
    "    def __init__(self,phy,chem,math):\n",
    "        self.chem=chem\n",
    "        self.phy=phy\n",
    "        self.math=math\n",
    "        \n",
    "    @property\n",
    "    def percentage(self):\n",
    "        return str((self.phy+self.chem+self.math)/3)+ \"%\"\n",
    "        \n",
    "\n",
    "stud1=students(98,95,99)\n",
    "print(stud1.percentage)\n",
    "\n",
    "# we took the marks of physics wrong -> CHANGE\n",
    "stud1.phy=89\n",
    "print(stud1.phy)\n",
    "print(stud1.percentage) \n",
    "       "
   ]
  },
  {
   "cell_type": "code",
   "execution_count": 57,
   "id": "817bcc4a-9a73-4105-b717-b124708d306e",
   "metadata": {},
   "outputs": [
    {
     "name": "stdout",
     "output_type": "stream",
     "text": [
      "3\n",
      "ayutiw\n",
      "[1, 2, 3, 4, 5, 6]\n"
     ]
    }
   ],
   "source": [
    "# POLYMORPHISM\n",
    "# when the same operator is allowed to have diff meaning acc to the context\n",
    "# meaning of + is diff for diff cases\n",
    "print(1+2) #add\n",
    "print(\"ayu\"+\"tiw\") #concat\n",
    "print([1,2,3]+[4,5,6]) # merge"
   ]
  },
  {
   "cell_type": "code",
   "execution_count": 73,
   "id": "c6953c52-73f7-41a4-8c6f-be98c82ba660",
   "metadata": {},
   "outputs": [
    {
     "name": "stdout",
     "output_type": "stream",
     "text": [
      "12\n",
      "8\n",
      "20\n",
      "5.0\n",
      "0\n",
      "None\n"
     ]
    }
   ],
   "source": [
    "# operators and dunder functions\n",
    "a=10\n",
    "b=2\n",
    "print(a.__add__(b))\n",
    "print(a.__sub__(b))\n",
    "print(a.__mul__(b))\n",
    "print(a.__truediv__(b))\n",
    "print(print(a.__mod__(b)))"
   ]
  },
  {
   "cell_type": "code",
   "execution_count": 83,
   "id": "a3b17025-22f1-4ffc-bd1c-795f3aa49dcd",
   "metadata": {},
   "outputs": [
    {
     "name": "stdout",
     "output_type": "stream",
     "text": [
      "2 i + 3 j\n",
      "4 i + 5 j\n",
      "6 i + 8 j\n"
     ]
    }
   ],
   "source": [
    "# complex nos\n",
    "class complex:\n",
    "    def __init__(self,real,img):\n",
    "        self.real=real\n",
    "        self.img=img\n",
    "\n",
    "    def shownum(self):\n",
    "        print(self.real,\"i +\",self.img,\"j\")\n",
    "\n",
    "    def add(self,num2):\n",
    "        newreal=self.real+num2.real\n",
    "        newimg=self.img+num2.img\n",
    "        return complex(newreal,newimg)\n",
    "        \n",
    "num1=complex(2,3)\n",
    "num1.shownum()\n",
    "num2=complex(4,5)\n",
    "num2.shownum()\n",
    "num3=num1.add(num2)\n",
    "num3.shownum()\n"
   ]
  },
  {
   "cell_type": "code",
   "execution_count": 87,
   "id": "95d53ea7-2efd-4954-8a40-bc47436db1a6",
   "metadata": {},
   "outputs": [
    {
     "name": "stdout",
     "output_type": "stream",
     "text": [
      "2 i + 3 j\n",
      "4 i + 5 j\n",
      "6 i + 8 j\n"
     ]
    }
   ],
   "source": [
    "class complex:\n",
    "    def __init__(self,real,img):\n",
    "        self.real=real\n",
    "        self.img=img\n",
    "\n",
    "    def shownum(self):\n",
    "        print(self.real,\"i +\",self.img,\"j\")\n",
    "\n",
    "    def __add__(self,num2):\n",
    "        newreal=self.real+num2.real\n",
    "        newimg=self.img+num2.img\n",
    "        return complex(newreal,newimg)\n",
    "        \n",
    "num1=complex(2,3)\n",
    "num1.shownum()\n",
    "num2=complex(4,5)\n",
    "num2.shownum()\n",
    "num3=num1+num2\n",
    "num3.shownum()"
   ]
  },
  {
   "cell_type": "code",
   "execution_count": null,
   "id": "30316c78-7266-4539-8cf6-49cf286133a6",
   "metadata": {},
   "outputs": [],
   "source": []
  }
 ],
 "metadata": {
  "kernelspec": {
   "display_name": "Python 3 (ipykernel)",
   "language": "python",
   "name": "python3"
  },
  "language_info": {
   "codemirror_mode": {
    "name": "ipython",
    "version": 3
   },
   "file_extension": ".py",
   "mimetype": "text/x-python",
   "name": "python",
   "nbconvert_exporter": "python",
   "pygments_lexer": "ipython3",
   "version": "3.12.4"
  }
 },
 "nbformat": 4,
 "nbformat_minor": 5
}
